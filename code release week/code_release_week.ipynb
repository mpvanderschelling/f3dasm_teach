{
 "cells": [
  {
   "cell_type": "markdown",
   "metadata": {},
   "source": [
    "# `f3dasm`: Framework for Data-Driven Design and Analysis of Structures and Materials \n",
    "*April 3rd, 2023* <br>\n",
    "*Code Release Week \\#1*"
   ]
  },
  {
   "cell_type": "markdown",
   "metadata": {},
   "source": [
    "# Table of contents\n",
    "\n",
    "**1. Project introduction**\n",
    "- 1.1 Overview\n",
    "- 1.2 Conceptual Map and use cases\n",
    "- 1.3 Computational Framework\n",
    "- 1.4 Installation and getting started\n",
    "\n",
    "**2. Demonstration**"
   ]
  },
  {
   "cell_type": "markdown",
   "metadata": {},
   "source": [
    "## 1.1 Overview"
   ]
  },
  {
   "cell_type": "markdown",
   "metadata": {},
   "source": [
    "f3dasm is an attempt to unite data-driven design and analysis of structures of materials.\n",
    "More concretely, "
   ]
  },
  {
   "cell_type": "markdown",
   "metadata": {},
   "source": [
    "## 1.2 Conceptual map and use cases"
   ]
  },
  {
   "cell_type": "markdown",
   "metadata": {},
   "source": [
    "**Using `f3dasm` to handle your design of experiments**\n",
    "- *Have your own functions and modules and coat them in a `f3dasm` sauce to manage and scale-up your experiments!*\n",
    "\n",
    "**Using `f3dasm` to benchmark or compare models**\n",
    "- *Go fully `f3dasm`: use existing implementations to benchmark parts of the data-driven machine learning process!*\n",
    "\n",
    "**Develop on `f3dasm`**\n",
    "- *Work hard, play hard: work towards making your implementations an official `f3dasm`extension!*\n",
    "\n"
   ]
  },
  {
   "cell_type": "markdown",
   "metadata": {},
   "source": [
    "## 1.4 Installation and getting started"
   ]
  },
  {
   "cell_type": "markdown",
   "metadata": {},
   "source": [
    "### System requirements\n",
    "`f3dasm` is compatible with:\n",
    "1. Python 3.7 to 3.10.\n",
    "2. the three major operations system (Linux, MacOS, Ubuntu).\n",
    "3. the default environment of Google Colab (Python 3.8, Linux) \n",
    "4. the `pip` package manager system.\n",
    "\n",
    "Installation instruction can be found in the documentation page under [Getting Started](https://bessagroup.github.io/F3DASM/gettingstarted.html)"
   ]
  },
  {
   "cell_type": "markdown",
   "metadata": {},
   "source": [
    "You can check if the installation was succesfull by importing f3dasm. It will show the installed version and the dependencies:"
   ]
  },
  {
   "cell_type": "code",
   "execution_count": 1,
   "metadata": {},
   "outputs": [
    {
     "name": "stderr",
     "output_type": "stream",
     "text": [
      "2023-03-30 10:15:43,458 - Imported f3dasm\n",
      "2023-03-30 10:15:44.562616: I tensorflow/core/platform/cpu_feature_guard.cc:193] This TensorFlow binary is optimized with oneAPI Deep Neural Network Library (oneDNN) to use the following CPU instructions in performance-critical operations:  AVX2 AVX512F AVX512_VNNI FMA\n",
      "To enable them in other operations, rebuild TensorFlow with the appropriate compiler flags.\n",
      "2023-03-30 10:15:44.694562: I tensorflow/core/util/port.cc:104] oneDNN custom operations are on. You may see slightly different numerical results due to floating-point round-off errors from different computation orders. To turn them off, set the environment variable `TF_ENABLE_ONEDNN_OPTS=0`.\n",
      "2023-03-30 10:15:45.350305: W tensorflow/compiler/xla/stream_executor/platform/default/dso_loader.cc:64] Could not load dynamic library 'libnvinfer.so.7'; dlerror: libnvinfer.so.7: cannot open shared object file: No such file or directory; LD_LIBRARY_PATH: /usr/local/cuda-11.1/lib64\n",
      "2023-03-30 10:15:45.350371: W tensorflow/compiler/xla/stream_executor/platform/default/dso_loader.cc:64] Could not load dynamic library 'libnvinfer_plugin.so.7'; dlerror: libnvinfer_plugin.so.7: cannot open shared object file: No such file or directory; LD_LIBRARY_PATH: /usr/local/cuda-11.1/lib64\n",
      "2023-03-30 10:15:45.350377: W tensorflow/compiler/tf2tensorrt/utils/py_utils.cc:38] TF-TRT Warning: Cannot dlopen some TensorRT libraries. If you would like to use Nvidia GPU with TensorRT, please make sure the missing libraries mentioned above are installed properly.\n",
      "2023-03-30 10:15:45,860 - None\n"
     ]
    },
    {
     "name": "stdout",
     "output_type": "stream",
     "text": [
      "\n",
      "f3dasm:\n",
      "       f3dasm: No __version__ attribute!\n",
      "\n",
      "System:\n",
      "    python: 3.8.15 | packaged by conda-forge | (default, Nov 22 2022, 08:49:35)  [GCC 10.4.0]\n",
      "executable: /home/martin/miniconda3/envs/f3dasm_env3/bin/python\n",
      "   machine: Linux-5.14.0-1059-oem-x86_64-with-glibc2.10\n",
      "\n",
      "Core package dependencies:\n",
      "        numpy: 1.23.5\n",
      "        scipy: 1.9.3\n",
      "       pandas: 1.5.2\n",
      "   matplotlib: 3.6.2\n",
      "       pathos: 0.3.0\n",
      "        hydra: 1.2.0\n",
      "     autograd: No __version__ attribute!\n",
      "\n",
      "Machine learning extension:\n",
      "   tensorflow: 2.11.0\n",
      "\n",
      "Optimization extension:\n",
      "       GPyOpt: 1.2.6\n",
      "          GPy: 1.10.0\n",
      "   tensorflow: 2.11.0\n",
      "        pygmo: 2.19.0\n",
      "\n",
      "Sampling extension:\n",
      "        SALib: 1.4.7\n"
     ]
    }
   ],
   "source": [
    "import f3dasm"
   ]
  },
  {
   "cell_type": "markdown",
   "metadata": {},
   "source": [
    "#### Distinction between python package and repository\n",
    "- The Python  PyPI package (`pip install f3dasm`) contains the code that is used when installing the package as a **user**. It contains only the `main` branch version.\n",
    "- The GitHub repository is mainly for **developers** and besides the package includes:\n",
    "  - Studies (more on that later)\n",
    "  - Test suite\n",
    "  - Documentation source\n",
    "  - Tutorial notebooks"
   ]
  },
  {
   "cell_type": "markdown",
   "metadata": {},
   "source": [
    "### Extensions\n",
    "\n",
    "- The package contains a lot of implementation for each of the blocks.\n",
    "- The installation of dependencies of `f3dasm` is modular: you decide what you want to use or not.\n",
    "\n",
    "We can distinguish three ways of using `f3dasm`:"
   ]
  },
  {
   "cell_type": "markdown",
   "metadata": {},
   "source": [
    "#### Using `f3dasm` to handle your design of experiments\n",
    "*Have your own functions and modules and coat them in a `f3dasm` sauce to manage and scale-up your experiments!*\n",
    "\n",
    "The **core** package: contains the minimal installation to use `f3dasm` without extended features. \n",
    "Installed with `pip install f3dasm`\n",
    "\n",
    "The core package contains the following features:\n",
    "1. provide a way to parametrize your experiment with the **design-of-experiments** classes.\n",
    "2. provide the option to investigate their experiment by **sampling** and **optimizing** their design.\n",
    "3. provide the user guidance in **parallelizing** their program and ordering their data.\n",
    "4. give the user ways of deploying their **experiment** at the HPC (TORQUE system)\n",
    "\n",
    "The core package requires the following dependencies:\n",
    "- `numpy` and `scipy`: for numerical operations\n",
    "- `pandas`: for the representation of the design of experiments\n",
    "- `matplotlib`: for plotting\n",
    "- `hydra-core`: for deploying your experiment \n",
    "- `pathos`: for multiprocessing\n",
    "- `autograd`: for computing gradients"
   ]
  },
  {
   "cell_type": "markdown",
   "metadata": {},
   "source": [
    "#### Using `f3dasm` to benchmark or compare models\n",
    "*Go fully `f3dasm`: use existing implementations to benchmark parts of the data-driven machine learning process!*\n",
    "\n",
    "You can solely use the core package, but it is advised to enrich `f3dasm` with its **extensions** \n",
    "\n",
    "The extensions contain the following features:\n",
    "1. provide various **implementations** to accommodate common machine learning workflows.\n",
    "2. provide **adapter** classes that link common machine learning libraries to `f3dasm` base classes. \n",
    "\n",
    "\n",
    "For each of the blocks, extensions can be installed to extend the choice of implementations. Installed with `pip install f3dasm[<name of extension>]`\n",
    "\n",
    "The following extensions are available:\n",
    "- **machinelearning**: containing various `tensorflow` related models\n",
    "- **sampling**: containing sampling strategies from `SALib`\n",
    "- **optimization**: containing various optimizers from `GPyOpt`, `pygmo` and `tensorflow`\n"
   ]
  },
  {
   "cell_type": "markdown",
   "metadata": {},
   "source": [
    "#### Develop on `f3dasm`\n",
    "*Work hard, play hard: work towards making your implementations an official `f3dasm`extension!*\n",
    "\n",
    "If you want your implementation to be part of the `f3dasm` package, you can develop an adapter and/or implementation for `f3dasm`\n",
    "\n",
    "The **developement** package: contains the full installation plus requirements for developing on `f3dasm`. \n",
    "Installed with `pip install f3dasm[dev]`\n",
    "\n",
    "Information on how to contribute to `f3dasm` can be found [on the wiki page of the GitHub repository](https://github.com/bessagroup/F3DASM/wiki)!"
   ]
  },
  {
   "cell_type": "markdown",
   "metadata": {},
   "source": [
    "\n",
    "### Feature requirements\n",
    "The first release of `f3dasm` should:\n",
    "1. have a way to parametrize a **design-of-experiments** from their own program\n",
    "2. give the user the option to **sample** and **optimize** from their design with various optimizers\n",
    "3. give the user guidance in **parallelizing** and ordering their experiment-data\n",
    "4. provide high-level classes to deploy **simulations**.\n",
    "4. give the user ways of deploying their **experiment** at the HPC (TORQUE system)\n",
    "\n",
    "The first release of `f3dasm` **should not**:\n",
    "1. force the user to use the built-in machine learning models and optimizers (these are extensions)\n",
    "2. include state-of-the-art machine learning models as extensions"
   ]
  },
  {
   "cell_type": "markdown",
   "metadata": {},
   "source": []
  },
  {
   "cell_type": "markdown",
   "metadata": {},
   "source": []
  },
  {
   "cell_type": "markdown",
   "metadata": {},
   "source": [
    "## Requirements of first release of f3dasm\n",
    "\n",
    "> Distinction between python package and repository\n",
    "> - Python package contains the code that is used when installing the package (`pip install f3dasm`) as a user. It contains only the `main` branch version\n",
    "> - The repository is mainly for developers and to showcase studies (more on that later)\n",
    "\n",
    "### System requirements\n",
    "The first release of `f3dasm` **should**:\n",
    "1. comply to the Bessa Group code of conduct\n",
    "2. compatible with Python 3.7 to 3.10\n",
    "3. compatible with the three major operations system (Linux, MacOS, Ubuntu)\n",
    "4. available as a `pip` install\n",
    "\n",
    "The first release of `f3dasm` **should not**:\n",
    "1. use `conda` packages as requirements\n",
    "2. be hosted on other package distribution platforms (`poetry`, `conda`)\n",
    "\n",
    "### Feature requirements\n",
    "The first release of `f3dasm` should:\n",
    "1. have a way to parametrize a **design-of-experiments** from their own program\n",
    "2. give the user the option to **sample** and **optimize** from their design with various optimizers\n",
    "3. give the user guidance in **parallelizing** and ordering their experiment-data\n",
    "4. provide high-level classes to deploy **simulations**.\n",
    "4. give the user ways of deploying their **experiment** at the HPC (TORQUE system)\n",
    "\n",
    "The first release of `f3dasm` **should not**:\n",
    "1. force the user to use the built-in machine learning models and optimizers (these are extensions)\n",
    "2. include state-of-the-art machine learning models as extensions"
   ]
  },
  {
   "cell_type": "code",
   "execution_count": 2,
   "metadata": {},
   "outputs": [],
   "source": [
    "import f3dasm"
   ]
  },
  {
   "cell_type": "markdown",
   "metadata": {},
   "source": [
    "We can show our exact installation with the following function:"
   ]
  },
  {
   "cell_type": "code",
   "execution_count": 3,
   "metadata": {},
   "outputs": [
    {
     "name": "stdout",
     "output_type": "stream",
     "text": [
      "\n",
      "f3dasm:\n",
      "       f3dasm: 0.2.98\n",
      "\n",
      "System:\n",
      "    python: 3.8.15 | packaged by conda-forge | (default, Nov 22 2022, 08:49:35)  [GCC 10.4.0]\n",
      "executable: /home/martin/miniconda3/envs/f3dasm_env3/bin/python\n",
      "   machine: Linux-5.14.0-1059-oem-x86_64-with-glibc2.10\n",
      "\n",
      "Core package dependencies:\n",
      "        numpy: 1.23.5\n",
      "        scipy: 1.9.3\n",
      "       pandas: 1.5.2\n",
      "   matplotlib: 3.6.2\n",
      "       pathos: 0.3.0\n",
      "        hydra: 1.2.0\n",
      "     autograd: No __version__ attribute!\n",
      "\n",
      "Machine learning extension:\n",
      "   tensorflow: 2.11.0\n",
      "\n",
      "Optimization extension:\n",
      "       GPyOpt: 1.2.6\n",
      "          GPy: 1.10.0\n",
      "   tensorflow: 2.11.0\n",
      "        pygmo: 2.19.0\n",
      "\n",
      "Sampling extension:\n",
      "        SALib: 1.4.7\n"
     ]
    }
   ],
   "source": [
    "f3dasm.show_versions()"
   ]
  },
  {
   "cell_type": "markdown",
   "metadata": {},
   "source": [
    "### Namespace\n",
    "\n",
    "Base classes are available from the global namespace:"
   ]
  },
  {
   "cell_type": "code",
   "execution_count": 4,
   "metadata": {},
   "outputs": [
    {
     "data": {
      "text/plain": [
       "(f3dasm.sampling.sampler.Sampler,\n",
       " f3dasm.optimization.optimizer.Optimizer,\n",
       " f3dasm.machinelearning.model.Model)"
      ]
     },
     "execution_count": 4,
     "metadata": {},
     "output_type": "execute_result"
    }
   ],
   "source": [
    "f3dasm.Sampler, f3dasm.Optimizer, f3dasm.Model"
   ]
  },
  {
   "cell_type": "markdown",
   "metadata": {},
   "source": [
    "The design space features are also available from the global:"
   ]
  },
  {
   "cell_type": "code",
   "execution_count": 5,
   "metadata": {},
   "outputs": [
    {
     "data": {
      "text/plain": [
       "(f3dasm.design.design.DesignSpace,\n",
       " f3dasm.design.experimentdata.ExperimentData,\n",
       " f3dasm.design.parameter.ContinuousParameter,\n",
       " <function f3dasm.design.design.make_nd_continuous_design(bounds: numpy.ndarray, dimensionality: int) -> f3dasm.design.design.DesignSpace>)"
      ]
     },
     "execution_count": 5,
     "metadata": {},
     "output_type": "execute_result"
    }
   ],
   "source": [
    "f3dasm.DesignSpace, f3dasm.ExperimentData, f3dasm.ContinuousParameter, f3dasm.make_nd_continuous_design"
   ]
  },
  {
   "cell_type": "markdown",
   "metadata": {},
   "source": [
    "Other utility functions that are under the global namespace:"
   ]
  },
  {
   "cell_type": "code",
   "execution_count": 6,
   "metadata": {},
   "outputs": [
    {
     "data": {
      "text/plain": [
       "(<function f3dasm.run_optimization.run_optimization(optimizer: f3dasm.optimization.optimizer.Optimizer, function: f3dasm.functions.function.Function, sampler: f3dasm.sampling.sampler.Sampler, iterations: int, seed: int, number_of_samples: int = 30) -> f3dasm.design.experimentdata.ExperimentData>,\n",
       " <function f3dasm._show_versions.show_versions()>)"
      ]
     },
     "execution_count": 6,
     "metadata": {},
     "output_type": "execute_result"
    }
   ],
   "source": [
    "f3dasm.run_optimization, f3dasm.show_versions"
   ]
  },
  {
   "cell_type": "markdown",
   "metadata": {},
   "source": [
    "All implementations can found under the respective submodules:\n",
    "- `f3dasm.sampling`\n",
    "- `f3dasm.machinelearning`\n",
    "- `f3dasm.optimization`\n",
    "- `f3dasm.simulation`"
   ]
  },
  {
   "cell_type": "code",
   "execution_count": 7,
   "metadata": {},
   "outputs": [
    {
     "data": {
      "text/plain": [
       "(f3dasm.optimization.adam.Adam,\n",
       " f3dasm.sampling.randomuniform.RandomUniform,\n",
       " f3dasm.machinelearning.linear_regression.LinearRegression)"
      ]
     },
     "execution_count": 7,
     "metadata": {},
     "output_type": "execute_result"
    }
   ],
   "source": [
    "f3dasm.optimization.Adam, f3dasm.sampling.RandomUniform, f3dasm.machinelearning.LinearRegression"
   ]
  },
  {
   "cell_type": "markdown",
   "metadata": {},
   "source": [
    "Furthermore, there two more submodules:\n",
    "- `f3dasm.functions`: for benchmarkfunctions, they can be used in any stage in the process\n",
    "- `f3dasm.experiment`: Experiment utilities, for datacollection, paralellization and HPC support"
   ]
  },
  {
   "cell_type": "markdown",
   "metadata": {},
   "source": [
    "## Modularity\n",
    "\n",
    "Whenever you import the f3dasm package, the implementations are only loaded when you create an instance of the class.\n",
    "Only then it is checked if a particular dependency is installed or not. This keeps the package lightweight and customizable"
   ]
  },
  {
   "cell_type": "markdown",
   "metadata": {},
   "source": [
    "Example, The `SALib` library is not installed. I can load the `LatinHyperCube` sampler without any problem."
   ]
  },
  {
   "cell_type": "code",
   "execution_count": 8,
   "metadata": {},
   "outputs": [
    {
     "data": {
      "text/plain": [
       "f3dasm.sampling.latinhypercube.LatinHypercube"
      ]
     },
     "execution_count": 8,
     "metadata": {},
     "output_type": "execute_result"
    }
   ],
   "source": [
    "f3dasm.sampling.LatinHypercube"
   ]
  },
  {
   "cell_type": "markdown",
   "metadata": {},
   "source": [
    "Only when I create an instance of this sampler, an ImportError is thrown:"
   ]
  },
  {
   "cell_type": "code",
   "execution_count": 9,
   "metadata": {},
   "outputs": [],
   "source": [
    "sampler = f3dasm.sampling.LatinHypercube(design=0)"
   ]
  },
  {
   "cell_type": "markdown",
   "metadata": {},
   "source": [
    "All the available samplers within your installation can be shown with `f3dasm.sampling.SAMPLERS`\n",
    "\n",
    "> same logic goes for `OPTIMIZERS` and `MODELS`"
   ]
  },
  {
   "cell_type": "code",
   "execution_count": 10,
   "metadata": {},
   "outputs": [
    {
     "data": {
      "text/plain": [
       "[f3dasm.sampling.randomuniform.RandomUniform,\n",
       " f3dasm.sampling.latinhypercube.LatinHypercube,\n",
       " f3dasm.sampling.sobolsequence.SobolSequence]"
      ]
     },
     "execution_count": 10,
     "metadata": {},
     "output_type": "execute_result"
    }
   ],
   "source": [
    "f3dasm.sampling.SAMPLERS"
   ]
  },
  {
   "cell_type": "markdown",
   "metadata": {},
   "source": [
    "## Other notes"
   ]
  },
  {
   "cell_type": "markdown",
   "metadata": {},
   "source": [
    "- way of working with f3dasm: 'fully f3dasm' or 'core f3dasm' (base classes both protocol and parent class)\n",
    "- lacking implementation of simulator\n",
    "- enthousiasm from bessa group\n",
    "- after release v.1.0"
   ]
  },
  {
   "cell_type": "code",
   "execution_count": null,
   "metadata": {},
   "outputs": [],
   "source": []
  }
 ],
 "metadata": {
  "kernelspec": {
   "display_name": "Python 3 (ipykernel)",
   "language": "python",
   "name": "python3"
  },
  "language_info": {
   "codemirror_mode": {
    "name": "ipython",
    "version": 3
   },
   "file_extension": ".py",
   "mimetype": "text/x-python",
   "name": "python",
   "nbconvert_exporter": "python",
   "pygments_lexer": "ipython3",
   "version": "3.8.15"
  },
  "vscode": {
   "interpreter": {
    "hash": "03276761335d5ee93b82dc97db1addd68180a543fb0cacb8af76ec058b1972b7"
   }
  }
 },
 "nbformat": 4,
 "nbformat_minor": 2
}
