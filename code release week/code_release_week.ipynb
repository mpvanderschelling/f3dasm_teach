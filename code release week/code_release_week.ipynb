{
 "cells": [
  {
   "cell_type": "markdown",
   "metadata": {},
   "source": [
    "# `f3dasm`: Framework for Data-Driven Design and Analysis of Structures and Materials \n",
    "*April 3rd, 2023* <br>\n",
    "*Code Release Week \\#1*"
   ]
  },
  {
   "cell_type": "markdown",
   "metadata": {},
   "source": [
    "# Table of contents\n",
    "\n",
    "**1. Project introduction**\n",
    "- 1.1 Overview\n",
    "- 1.2 Conceptual Map and use cases\n",
    "- 1.3 Computational Framework\n",
    "- 1.4 Installation and getting started\n",
    "\n",
    "**2. Demonstration**"
   ]
  },
  {
   "cell_type": "markdown",
   "metadata": {},
   "source": [
    "## 1.1 Overview"
   ]
  },
  {
   "cell_type": "markdown",
   "metadata": {},
   "source": [
    "f3dasm is an attempt to unite data-driven design and analysis of structures of materials.\n",
    "More concretely, "
   ]
  },
  {
   "cell_type": "markdown",
   "metadata": {},
   "source": [
    "## 1.2 Conceptual map and use cases"
   ]
  },
  {
   "cell_type": "markdown",
   "metadata": {},
   "source": [
    "**Using `f3dasm` to handle your design of experiments**\n",
    "- *Have your own functions and modules and coat them in a `f3dasm` sauce to manage and scale-up your experiments!*\n",
    "\n",
    "**Using `f3dasm` to benchmark or compare models**\n",
    "- *Go fully `f3dasm`: use existing implementations to benchmark parts of the data-driven machine learning process!*\n",
    "\n",
    "**Develop on `f3dasm`**\n",
    "- *Work hard, play hard: work towards making your implementations an official `f3dasm`extension!*\n",
    "\n"
   ]
  },
  {
   "cell_type": "markdown",
   "metadata": {},
   "source": [
    "## 1.4 Installation and getting started"
   ]
  },
  {
   "cell_type": "markdown",
   "metadata": {},
   "source": [
    "### System requirements\n",
    "`f3dasm` is compatible with:\n",
    "1. Python 3.7 to 3.10.\n",
    "2. the three major operations system (Linux, MacOS, Ubuntu).\n",
    "3. the default environment of Google Colab (Python 3.8, Linux) \n",
    "4. the `pip` package manager system.\n",
    "\n",
    "Installation instruction can be found in the documentation page under [Getting Started](https://bessagroup.github.io/F3DASM/gettingstarted.html)"
   ]
  },
  {
   "cell_type": "markdown",
   "metadata": {},
   "source": [
    "You can check if the installation was succesfull by importing f3dasm. It will show the installed version and the dependencies:"
   ]
  },
  {
   "cell_type": "code",
   "execution_count": 1,
   "metadata": {},
   "outputs": [
    {
     "name": "stderr",
     "output_type": "stream",
     "text": [
      "2023-03-30 20:30:11,984 - Imported f3dasm (version: 0.2.98)\n",
      "2023-03-30 20:30:13.027564: I tensorflow/core/platform/cpu_feature_guard.cc:193] This TensorFlow binary is optimized with oneAPI Deep Neural Network Library (oneDNN) to use the following CPU instructions in performance-critical operations:  AVX2 AVX512F AVX512_VNNI FMA\n",
      "To enable them in other operations, rebuild TensorFlow with the appropriate compiler flags.\n",
      "2023-03-30 20:30:13.208754: I tensorflow/core/util/port.cc:104] oneDNN custom operations are on. You may see slightly different numerical results due to floating-point round-off errors from different computation orders. To turn them off, set the environment variable `TF_ENABLE_ONEDNN_OPTS=0`.\n",
      "2023-03-30 20:30:13.970766: W tensorflow/compiler/xla/stream_executor/platform/default/dso_loader.cc:64] Could not load dynamic library 'libnvinfer.so.7'; dlerror: libnvinfer.so.7: cannot open shared object file: No such file or directory; LD_LIBRARY_PATH: /usr/local/cuda-11.1/lib64:/usr/local/cuda-11.1/lib64\n",
      "2023-03-30 20:30:13.970830: W tensorflow/compiler/xla/stream_executor/platform/default/dso_loader.cc:64] Could not load dynamic library 'libnvinfer_plugin.so.7'; dlerror: libnvinfer_plugin.so.7: cannot open shared object file: No such file or directory; LD_LIBRARY_PATH: /usr/local/cuda-11.1/lib64:/usr/local/cuda-11.1/lib64\n",
      "2023-03-30 20:30:13.970836: W tensorflow/compiler/tf2tensorrt/utils/py_utils.cc:38] TF-TRT Warning: Cannot dlopen some TensorRT libraries. If you would like to use Nvidia GPU with TensorRT, please make sure the missing libraries mentioned above are installed properly.\n"
     ]
    }
   ],
   "source": [
    "import f3dasm"
   ]
  },
  {
   "cell_type": "markdown",
   "metadata": {},
   "source": [
    "#### Distinction between python package and repository\n",
    "- The Python  PyPI package (`pip install f3dasm`) contains the code that is used when installing the package as a **user**. It contains only the `main` branch version.\n",
    "- The GitHub repository is mainly for **developers** and besides the package includes:\n",
    "  - Studies (more on that later)\n",
    "  - Test suite\n",
    "  - Documentation source\n",
    "  - Tutorial notebooks"
   ]
  },
  {
   "cell_type": "markdown",
   "metadata": {},
   "source": [
    "### Extensions\n",
    "\n",
    "- The package contains a lot of implementation for each of the blocks.\n",
    "- The installation of dependencies of `f3dasm` is modular: you decide what you want to use or not.\n",
    "\n",
    "We can distinguish three ways of using `f3dasm`:"
   ]
  },
  {
   "cell_type": "markdown",
   "metadata": {},
   "source": [
    "#### Using `f3dasm` to handle your design of experiments\n",
    "*Have your own functions and modules and coat them in a `f3dasm` sauce to manage and scale-up your experiments!*\n",
    "\n",
    "The **core** package: contains the minimal installation to use `f3dasm` without extended features. \n",
    "Installed with `pip install f3dasm`\n",
    "\n",
    "The core package contains the following features:\n",
    "1. provide a way to parametrize your experiment with the **design-of-experiments** classes.\n",
    "2. provide the option to investigate their experiment by **sampling** and **optimizing** their design.\n",
    "3. provide the user guidance in **parallelizing** their program and ordering their data.\n",
    "4. give the user ways of deploying their **experiment** at the HPC (TORQUE system)\n",
    "\n",
    "The core package requires the following dependencies:\n",
    "- `numpy` and `scipy`: for numerical operations\n",
    "- `pandas`: for the representation of the design of experiments\n",
    "- `matplotlib`: for plotting\n",
    "- `hydra-core`: for deploying your experiment \n",
    "- `pathos`: for multiprocessing\n",
    "- `autograd`: for computing gradients"
   ]
  },
  {
   "cell_type": "markdown",
   "metadata": {},
   "source": [
    "#### Using `f3dasm` to benchmark or compare models\n",
    "*Go fully `f3dasm`: use existing implementations to benchmark parts of the data-driven machine learning process!*\n",
    "\n",
    "You can solely use the core package, but it is advised to enrich `f3dasm` with its **extensions** \n",
    "\n",
    "The extensions contain the following features:\n",
    "1. provide various **implementations** to accommodate common machine learning workflows.\n",
    "2. provide **adapter** classes that link common machine learning libraries to `f3dasm` base classes. \n",
    "\n",
    "\n",
    "For each of the blocks, extensions can be installed to extend the choice of implementations. Installed with `pip install f3dasm[<name of extension>]`\n",
    "\n",
    "The following extensions are available:\n",
    "- **machinelearning**: containing various `tensorflow` related models\n",
    "- **sampling**: containing sampling strategies from `SALib`\n",
    "- **optimization**: containing various optimizers from `GPyOpt`, `pygmo` and `tensorflow`\n"
   ]
  },
  {
   "cell_type": "markdown",
   "metadata": {},
   "source": [
    "#### Develop on `f3dasm`\n",
    "*Work hard, play hard: work towards making your implementations an official `f3dasm`extension!*\n",
    "\n",
    "If you want your implementation to be part of the `f3dasm` package, you can develop an adapter and/or implementation for `f3dasm`\n",
    "\n",
    "The **developement** package: contains the full installation plus requirements for developing on `f3dasm`. \n",
    "Installed with `pip install f3dasm[dev]`\n",
    "\n",
    "Information on how to contribute to `f3dasm` can be found [on the wiki page of the GitHub repository](https://github.com/bessagroup/F3DASM/wiki)!"
   ]
  },
  {
   "cell_type": "markdown",
   "metadata": {},
   "source": [
    "\n",
    "### Feature requirements\n",
    "The first release of `f3dasm` should:\n",
    "1. have a way to parametrize a **design-of-experiments** from their own program\n",
    "2. give the user the option to **sample** and **optimize** from their design with various optimizers\n",
    "3. give the user guidance in **parallelizing** and ordering their experiment-data\n",
    "4. provide high-level classes to deploy **simulations**.\n",
    "4. give the user ways of deploying their **experiment** at the HPC (TORQUE system)\n",
    "\n",
    "The first release of `f3dasm` **should not**:\n",
    "1. force the user to use the built-in machine learning models and optimizers (these are extensions)\n",
    "2. include state-of-the-art machine learning models as extensions"
   ]
  },
  {
   "cell_type": "markdown",
   "metadata": {},
   "source": []
  },
  {
   "cell_type": "markdown",
   "metadata": {},
   "source": [
    "## Scale things up on the HPC!"
   ]
  },
  {
   "cell_type": "markdown",
   "metadata": {},
   "source": [
    "Import some other packages and set a seed"
   ]
  },
  {
   "cell_type": "code",
   "execution_count": 2,
   "metadata": {},
   "outputs": [],
   "source": [
    "import numpy as np\n",
    "import logging\n",
    "from pathos.helpers import mp  # For multiprocessing!\n",
    "import time\n",
    "\n",
    "SEED = 42"
   ]
  },
  {
   "cell_type": "markdown",
   "metadata": {},
   "source": [
    "### Your program\n",
    "\n",
    "Let's say we have a program that we want to execute. It is important that this could be **anything**. Like:\n",
    "- Calculate the loss of some compliance curve in topology optimization\n",
    "- Computing the mean stress and strain from some abaqus simulation\n",
    "- Benchmarking various regressors in a multi-fidelity setting"
   ]
  },
  {
   "cell_type": "markdown",
   "metadata": {},
   "source": [
    "At the top level of your experiment, you will probably have a main function that accepts some arguments and returns the quantity of interest.\n",
    "\n",
    "Let's create such a function, just for demonstration purposes."
   ]
  },
  {
   "cell_type": "code",
   "execution_count": 3,
   "metadata": {},
   "outputs": [],
   "source": [
    "def my_own_program(a: float, b: float, c: float) -> float:    \n",
    "    functions = [f3dasm.functions.Rastrigin, f3dasm.functions.Levy, f3dasm.functions.Ackley]\n",
    "    y = []\n",
    "    for func in functions:\n",
    "        f = func(dimensionality=3, scale_bounds=np.tile([-1.,1.], (3,1)))\n",
    "        time.sleep(.1)\n",
    "        y.append(f(np.array([a,b,c])).ravel()[0])\n",
    "\n",
    "    # Sum the values\n",
    "    out = sum(y)\n",
    "    logging.info(f\"Executed program with a={a:.3f}, b={b:.3f}, c={c:.3f}: \\t Result {out:.3f}\")\n",
    "    return out"
   ]
  },
  {
   "cell_type": "markdown",
   "metadata": {},
   "source": [
    "What are we seeing:\n",
    "- The program requires three floating points and returns a float as well.\n",
    "- It creates three 3D-benchmark functions, evaluates them sequentially and sums the results\n",
    "- We simulate some computational cost (0.1 seconds per evaluation) by calling the `time.sleep()` method\n",
    "- We write to a log\n",
    "\n",
    "> Note: `my_own_program` uses the integrated benchmark functions from `f3dasm`, but this could very well be one of your codes without any dependency on `f3dasm`."
   ]
  },
  {
   "cell_type": "markdown",
   "metadata": {},
   "source": [
    "Executing multiple experiments is easy:"
   ]
  },
  {
   "cell_type": "code",
   "execution_count": 4,
   "metadata": {},
   "outputs": [
    {
     "name": "stderr",
     "output_type": "stream",
     "text": [
      "2023-03-30 20:30:15,644 - Executed program with a=0.443, b=0.825, c=0.950: \t Result 355.223\n",
      "2023-03-30 20:30:15,948 - Executed program with a=0.168, b=0.787, c=0.096: \t Result 215.947\n",
      "2023-03-30 20:30:16,251 - Executed program with a=0.187, b=0.782, c=0.794: \t Result 160.605\n",
      "2023-03-30 20:30:16,556 - Executed program with a=0.115, b=0.624, c=0.761: \t Result 199.399\n",
      "2023-03-30 20:30:16,860 - Executed program with a=0.182, b=0.948, c=0.595: \t Result 80.616\n",
      "2023-03-30 20:30:17,165 - Executed program with a=0.137, b=0.142, c=0.017: \t Result 124.994\n",
      "2023-03-30 20:30:17,469 - Executed program with a=0.376, b=0.589, c=0.676: \t Result 222.736\n",
      "2023-03-30 20:30:17,772 - Executed program with a=0.038, b=0.604, c=0.749: \t Result 155.112\n",
      "2023-03-30 20:30:18,077 - Executed program with a=0.545, b=0.362, c=0.663: \t Result 115.630\n",
      "2023-03-30 20:30:18,386 - Executed program with a=0.032, b=0.666, c=0.768: \t Result 142.940\n"
     ]
    },
    {
     "name": "stdout",
     "output_type": "stream",
     "text": [
      "It took 3.04596 seconds to execute this for loop\n"
     ]
    }
   ],
   "source": [
    "inputs = np.random.uniform(size=(10,3))\n",
    "\n",
    "start_time = time.time()\n",
    "outputs = np.array([my_own_program(*input_vals) for input_vals in inputs])\n",
    "time_not_parallel = time.time() - start_time\n",
    "\n",
    "print(f\"It took {time_not_parallel:.5f} seconds to execute this for loop\")"
   ]
  },
  {
   "cell_type": "markdown",
   "metadata": {},
   "source": [
    "We can save the values of `outputs` for later use"
   ]
  },
  {
   "cell_type": "markdown",
   "metadata": {},
   "source": [
    "## Local parallelization\n",
    "\n",
    "If you are familiar with [multiprocessing](https://docs.python.org/3/library/multiprocessing.html), you might already know that we can speed-up this function by parellizing the internal for loop:\n",
    "\n",
    "We create a multiprocessing pool (`mp.Pool()`) where we map the functions to cores in our machine:"
   ]
  },
  {
   "cell_type": "code",
   "execution_count": 5,
   "metadata": {},
   "outputs": [],
   "source": [
    "def my_own_program_parallel(a: float, b: float, c: float) -> float:\n",
    "    def evaluate_function(func, a, b, c):\n",
    "        f = func(dimensionality=3, scale_bounds=np.tile([-1.,1.], (3,1)))\n",
    "        y = f(np.array([a,b,c])).ravel()[0]\n",
    "        time.sleep(.1)\n",
    "        return y\n",
    "\n",
    "    functions = [f3dasm.functions.Rastrigin, f3dasm.functions.Levy, f3dasm.functions.Ackley]\n",
    "    with mp.Pool() as pool:\n",
    "        y = pool.starmap(evaluate_function, [(func, a, b, c) for func in functions])\n",
    "\n",
    "    # Sum the values\n",
    "    out = sum(y)\n",
    "\n",
    "    logging.info(f\"Executed program with a={a:.3f}, b={b:.3f}, c={c:.3f}: \\t Result: {out:.3f}\")\n",
    "    return out"
   ]
  },
  {
   "cell_type": "markdown",
   "metadata": {},
   "source": [
    "Executing this function will speed up the process"
   ]
  },
  {
   "cell_type": "code",
   "execution_count": 6,
   "metadata": {},
   "outputs": [
    {
     "name": "stderr",
     "output_type": "stream",
     "text": [
      "2023-03-30 20:30:18,771 - Executed program with a=0.247, b=0.314, c=0.646: \t Result: 136.850\n",
      "2023-03-30 20:30:19,030 - Executed program with a=0.264, b=0.488, c=0.115: \t Result: 102.013\n",
      "2023-03-30 20:30:19,293 - Executed program with a=0.437, b=0.355, c=0.557: \t Result: 121.198\n",
      "2023-03-30 20:30:19,541 - Executed program with a=0.773, b=0.031, c=0.727: \t Result: 198.581\n",
      "2023-03-30 20:30:19,802 - Executed program with a=0.327, b=0.942, c=0.786: \t Result: 131.037\n",
      "2023-03-30 20:30:20,054 - Executed program with a=0.078, b=0.618, c=0.093: \t Result: 83.309\n",
      "2023-03-30 20:30:20,312 - Executed program with a=0.992, b=0.958, c=0.593: \t Result: 131.035\n",
      "2023-03-30 20:30:20,570 - Executed program with a=0.686, b=0.184, c=0.946: \t Result: 171.295\n",
      "2023-03-30 20:30:20,827 - Executed program with a=0.304, b=0.389, c=0.785: \t Result: 126.305\n",
      "2023-03-30 20:30:21,077 - Executed program with a=0.558, b=0.479, c=0.004: \t Result: 88.377\n"
     ]
    },
    {
     "name": "stdout",
     "output_type": "stream",
     "text": [
      "It took 2.53714 seconds to execute this for loop\n",
      "We are 0.50881 seconds faster by parellelization!\n"
     ]
    }
   ],
   "source": [
    "inputs = np.random.uniform(size=(10,3))\n",
    "\n",
    "start_time = time.time()\n",
    "outputs = np.array([my_own_program_parallel(*input_vals) for input_vals in inputs])\n",
    "time_parallel = time.time() - start_time\n",
    "\n",
    "print(f\"It took {time_parallel:.5f} seconds to execute this for loop\")\n",
    "print(f\"We are {time_not_parallel-time_parallel:.5f} seconds faster by parellelization!\")"
   ]
  },
  {
   "cell_type": "markdown",
   "metadata": {},
   "source": [
    "## Scale-up: challlenges\n",
    "\n",
    "Now we would like to really scale things up. What challenges lie along the way? I asked ChatGPT4:\n",
    "\n",
    "\n",
    "- **Experiment design and analysis**: As the complexity of the experiment increases, it becomes more difficult to design experiments that are robust and reproducible, and to analyze the results in a meaningful way. This can lead to issues with experimental design, parameter tuning, and statistical analysis.\n",
    "\n",
    "- **Parallelization and distribution**: As experiments become larger, it may be necessary to parallelize or distribute the computations across multiple machines or nodes in order to reduce the overall runtime. This introduces additional challenges such as synchronization between distributed processes.\n",
    "\n",
    "- **Managing data**: As the volume of data generated by an experiment increases, it becomes more difficult to manage and store that data. This can lead to issues with data corruption, loss, or inconsistency.\n",
    "\n",
    "This is where `f3dasm` is a helping hand!"
   ]
  },
  {
   "cell_type": "markdown",
   "metadata": {},
   "source": [
    "#### Experiment design and analysis\n",
    "\n",
    "We can create a `f3dasm.DesignSpace` to capture the variables of interest:\n",
    "- A `f3dasm.DesignSpace` consists of an input and output list of `f3dasm.Parameter` objects"
   ]
  },
  {
   "cell_type": "code",
   "execution_count": 7,
   "metadata": {},
   "outputs": [],
   "source": [
    "param_a = f3dasm.ContinuousParameter(name='a', lower_bound=-1., upper_bound=1.)\n",
    "param_b = f3dasm.ContinuousParameter(name='b', lower_bound=-1., upper_bound=1.)\n",
    "param_c = f3dasm.ContinuousParameter(name='c', lower_bound=-1., upper_bound=1.)\n",
    "param_out = f3dasm.ContinuousParameter(name='y')\n",
    "\n",
    "design = f3dasm.DesignSpace(input_space=[param_a, param_b, param_c], output_space=[param_out])"
   ]
  },
  {
   "cell_type": "markdown",
   "metadata": {},
   "source": [
    "We can create an object to store the experiments: `f3dasm.ExperimentData`, but we can also **sample from this designspace**\n",
    "We do that with the `f3dasm.sampling` submodule:\n",
    "\n",
    "> Note that this submodule offers an extension (`f3dasm[sampling]`) that include sampling strategies from `SALib` "
   ]
  },
  {
   "cell_type": "code",
   "execution_count": 8,
   "metadata": {},
   "outputs": [],
   "source": [
    "# Create the sampler object\n",
    "sampler = f3dasm.sampling.RandomUniform(design=design, seed=SEED)\n",
    "\n",
    "data: f3dasm.ExperimentData = sampler.get_samples(numsamples=10)"
   ]
  },
  {
   "cell_type": "markdown",
   "metadata": {},
   "source": [
    "The data object is under the hood a pandas dataframe:"
   ]
  },
  {
   "cell_type": "code",
   "execution_count": 9,
   "metadata": {},
   "outputs": [
    {
     "data": {
      "text/html": [
       "<div>\n",
       "<style scoped>\n",
       "    .dataframe tbody tr th:only-of-type {\n",
       "        vertical-align: middle;\n",
       "    }\n",
       "\n",
       "    .dataframe tbody tr th {\n",
       "        vertical-align: top;\n",
       "    }\n",
       "\n",
       "    .dataframe thead tr th {\n",
       "        text-align: left;\n",
       "    }\n",
       "</style>\n",
       "<table border=\"1\" class=\"dataframe\">\n",
       "  <thead>\n",
       "    <tr>\n",
       "      <th></th>\n",
       "      <th colspan=\"3\" halign=\"left\">input</th>\n",
       "      <th>output</th>\n",
       "    </tr>\n",
       "    <tr>\n",
       "      <th></th>\n",
       "      <th>a</th>\n",
       "      <th>b</th>\n",
       "      <th>c</th>\n",
       "      <th>y</th>\n",
       "    </tr>\n",
       "  </thead>\n",
       "  <tbody>\n",
       "    <tr>\n",
       "      <th>0</th>\n",
       "      <td>-0.250920</td>\n",
       "      <td>0.901429</td>\n",
       "      <td>0.463988</td>\n",
       "      <td>NaN</td>\n",
       "    </tr>\n",
       "    <tr>\n",
       "      <th>1</th>\n",
       "      <td>0.197317</td>\n",
       "      <td>-0.687963</td>\n",
       "      <td>-0.688011</td>\n",
       "      <td>NaN</td>\n",
       "    </tr>\n",
       "    <tr>\n",
       "      <th>2</th>\n",
       "      <td>-0.883833</td>\n",
       "      <td>0.732352</td>\n",
       "      <td>0.202230</td>\n",
       "      <td>NaN</td>\n",
       "    </tr>\n",
       "    <tr>\n",
       "      <th>3</th>\n",
       "      <td>0.416145</td>\n",
       "      <td>-0.958831</td>\n",
       "      <td>0.939820</td>\n",
       "      <td>NaN</td>\n",
       "    </tr>\n",
       "    <tr>\n",
       "      <th>4</th>\n",
       "      <td>0.664885</td>\n",
       "      <td>-0.575322</td>\n",
       "      <td>-0.636350</td>\n",
       "      <td>NaN</td>\n",
       "    </tr>\n",
       "    <tr>\n",
       "      <th>5</th>\n",
       "      <td>-0.633191</td>\n",
       "      <td>-0.391516</td>\n",
       "      <td>0.049513</td>\n",
       "      <td>NaN</td>\n",
       "    </tr>\n",
       "    <tr>\n",
       "      <th>6</th>\n",
       "      <td>-0.136110</td>\n",
       "      <td>-0.417542</td>\n",
       "      <td>0.223706</td>\n",
       "      <td>NaN</td>\n",
       "    </tr>\n",
       "    <tr>\n",
       "      <th>7</th>\n",
       "      <td>-0.721012</td>\n",
       "      <td>-0.415711</td>\n",
       "      <td>-0.267276</td>\n",
       "      <td>NaN</td>\n",
       "    </tr>\n",
       "    <tr>\n",
       "      <th>8</th>\n",
       "      <td>-0.087860</td>\n",
       "      <td>0.570352</td>\n",
       "      <td>-0.600652</td>\n",
       "      <td>NaN</td>\n",
       "    </tr>\n",
       "    <tr>\n",
       "      <th>9</th>\n",
       "      <td>0.028469</td>\n",
       "      <td>0.184829</td>\n",
       "      <td>-0.907099</td>\n",
       "      <td>NaN</td>\n",
       "    </tr>\n",
       "  </tbody>\n",
       "</table>\n",
       "</div>"
      ],
      "text/plain": [
       "      input                     output\n",
       "          a         b         c      y\n",
       "0 -0.250920  0.901429  0.463988    NaN\n",
       "1  0.197317 -0.687963 -0.688011    NaN\n",
       "2 -0.883833  0.732352  0.202230    NaN\n",
       "3  0.416145 -0.958831  0.939820    NaN\n",
       "4  0.664885 -0.575322 -0.636350    NaN\n",
       "5 -0.633191 -0.391516  0.049513    NaN\n",
       "6 -0.136110 -0.417542  0.223706    NaN\n",
       "7 -0.721012 -0.415711 -0.267276    NaN\n",
       "8 -0.087860  0.570352 -0.600652    NaN\n",
       "9  0.028469  0.184829 -0.907099    NaN"
      ]
     },
     "execution_count": 9,
     "metadata": {},
     "output_type": "execute_result"
    }
   ],
   "source": [
    "data.data"
   ]
  },
  {
   "cell_type": "markdown",
   "metadata": {},
   "source": [
    "The `y` values are NaN because we haven't evaluate our experiment yet! Let's do that:"
   ]
  },
  {
   "cell_type": "markdown",
   "metadata": {},
   "source": [
    "Handy: we can retrieve the input columns of a specific row as a dictionary"
   ]
  },
  {
   "cell_type": "code",
   "execution_count": 10,
   "metadata": {},
   "outputs": [
    {
     "data": {
      "text/plain": [
       "{'a': 0.416145155592091, 'b': -0.9588310114083951, 'c': 0.9398197043239886}"
      ]
     },
     "execution_count": 10,
     "metadata": {},
     "output_type": "execute_result"
    }
   ],
   "source": [
    "data.get_inputdata_by_index(index=3)"
   ]
  },
  {
   "cell_type": "markdown",
   "metadata": {},
   "source": [
    "Unpacking the values as arguments of our experiment creates the same results:"
   ]
  },
  {
   "cell_type": "code",
   "execution_count": 11,
   "metadata": {},
   "outputs": [
    {
     "name": "stderr",
     "output_type": "stream",
     "text": [
      "2023-03-30 20:30:21,721 - Executed program with a=-0.251, b=0.901, c=0.464: \t Result: 261.134\n",
      "2023-03-30 20:30:21,975 - Executed program with a=0.197, b=-0.688, c=-0.688: \t Result: 19.109\n",
      "2023-03-30 20:30:22,234 - Executed program with a=-0.884, b=0.732, c=0.202: \t Result: 321.825\n",
      "2023-03-30 20:30:22,508 - Executed program with a=0.416, b=-0.959, c=0.940: \t Result: 170.930\n",
      "2023-03-30 20:30:22,760 - Executed program with a=0.665, b=-0.575, c=-0.636: \t Result: 79.458\n",
      "2023-03-30 20:30:23,023 - Executed program with a=-0.633, b=-0.392, c=0.050: \t Result: 139.412\n",
      "2023-03-30 20:30:23,281 - Executed program with a=-0.136, b=-0.418, c=0.224: \t Result: 115.536\n",
      "2023-03-30 20:30:23,534 - Executed program with a=-0.721, b=-0.416, c=-0.267: \t Result: 83.109\n",
      "2023-03-30 20:30:23,798 - Executed program with a=-0.088, b=0.570, c=-0.601: \t Result: 215.214\n",
      "2023-03-30 20:30:24,068 - Executed program with a=0.028, b=0.185, c=-0.907: \t Result: 109.803\n"
     ]
    }
   ],
   "source": [
    "for index in range(data.get_number_of_datapoints()):\n",
    "    value = my_own_program_parallel(**data.get_inputdata_by_index(index))\n",
    "    data.set_outputdata_by_index(index, value)"
   ]
  },
  {
   "cell_type": "markdown",
   "metadata": {},
   "source": [
    "Now our data-object is filled"
   ]
  },
  {
   "cell_type": "code",
   "execution_count": 12,
   "metadata": {},
   "outputs": [
    {
     "data": {
      "text/html": [
       "<div>\n",
       "<style scoped>\n",
       "    .dataframe tbody tr th:only-of-type {\n",
       "        vertical-align: middle;\n",
       "    }\n",
       "\n",
       "    .dataframe tbody tr th {\n",
       "        vertical-align: top;\n",
       "    }\n",
       "\n",
       "    .dataframe thead tr th {\n",
       "        text-align: left;\n",
       "    }\n",
       "</style>\n",
       "<table border=\"1\" class=\"dataframe\">\n",
       "  <thead>\n",
       "    <tr>\n",
       "      <th></th>\n",
       "      <th colspan=\"3\" halign=\"left\">input</th>\n",
       "      <th>output</th>\n",
       "    </tr>\n",
       "    <tr>\n",
       "      <th></th>\n",
       "      <th>a</th>\n",
       "      <th>b</th>\n",
       "      <th>c</th>\n",
       "      <th>y</th>\n",
       "    </tr>\n",
       "  </thead>\n",
       "  <tbody>\n",
       "    <tr>\n",
       "      <th>0</th>\n",
       "      <td>-0.250920</td>\n",
       "      <td>0.901429</td>\n",
       "      <td>0.463988</td>\n",
       "      <td>261.134214</td>\n",
       "    </tr>\n",
       "    <tr>\n",
       "      <th>1</th>\n",
       "      <td>0.197317</td>\n",
       "      <td>-0.687963</td>\n",
       "      <td>-0.688011</td>\n",
       "      <td>19.109039</td>\n",
       "    </tr>\n",
       "    <tr>\n",
       "      <th>2</th>\n",
       "      <td>-0.883833</td>\n",
       "      <td>0.732352</td>\n",
       "      <td>0.202230</td>\n",
       "      <td>321.825051</td>\n",
       "    </tr>\n",
       "    <tr>\n",
       "      <th>3</th>\n",
       "      <td>0.416145</td>\n",
       "      <td>-0.958831</td>\n",
       "      <td>0.939820</td>\n",
       "      <td>170.930424</td>\n",
       "    </tr>\n",
       "    <tr>\n",
       "      <th>4</th>\n",
       "      <td>0.664885</td>\n",
       "      <td>-0.575322</td>\n",
       "      <td>-0.636350</td>\n",
       "      <td>79.458296</td>\n",
       "    </tr>\n",
       "    <tr>\n",
       "      <th>5</th>\n",
       "      <td>-0.633191</td>\n",
       "      <td>-0.391516</td>\n",
       "      <td>0.049513</td>\n",
       "      <td>139.411721</td>\n",
       "    </tr>\n",
       "    <tr>\n",
       "      <th>6</th>\n",
       "      <td>-0.136110</td>\n",
       "      <td>-0.417542</td>\n",
       "      <td>0.223706</td>\n",
       "      <td>115.535908</td>\n",
       "    </tr>\n",
       "    <tr>\n",
       "      <th>7</th>\n",
       "      <td>-0.721012</td>\n",
       "      <td>-0.415711</td>\n",
       "      <td>-0.267276</td>\n",
       "      <td>83.109400</td>\n",
       "    </tr>\n",
       "    <tr>\n",
       "      <th>8</th>\n",
       "      <td>-0.087860</td>\n",
       "      <td>0.570352</td>\n",
       "      <td>-0.600652</td>\n",
       "      <td>215.214311</td>\n",
       "    </tr>\n",
       "    <tr>\n",
       "      <th>9</th>\n",
       "      <td>0.028469</td>\n",
       "      <td>0.184829</td>\n",
       "      <td>-0.907099</td>\n",
       "      <td>109.803282</td>\n",
       "    </tr>\n",
       "  </tbody>\n",
       "</table>\n",
       "</div>"
      ],
      "text/plain": [
       "      input                          output\n",
       "          a         b         c           y\n",
       "0 -0.250920  0.901429  0.463988  261.134214\n",
       "1  0.197317 -0.687963 -0.688011   19.109039\n",
       "2 -0.883833  0.732352  0.202230  321.825051\n",
       "3  0.416145 -0.958831  0.939820  170.930424\n",
       "4  0.664885 -0.575322 -0.636350   79.458296\n",
       "5 -0.633191 -0.391516  0.049513  139.411721\n",
       "6 -0.136110 -0.417542  0.223706  115.535908\n",
       "7 -0.721012 -0.415711 -0.267276   83.109400\n",
       "8 -0.087860  0.570352 -0.600652  215.214311\n",
       "9  0.028469  0.184829 -0.907099  109.803282"
      ]
     },
     "execution_count": 12,
     "metadata": {},
     "output_type": "execute_result"
    }
   ],
   "source": [
    "data.data"
   ]
  },
  {
   "cell_type": "markdown",
   "metadata": {},
   "source": [
    "#### Paralellization and distribution\n",
    "\n",
    "`f3dasm` can handle paralellization to the HPC cluster and experiment distribution. \n",
    "\n",
    "In order to set this up, navigate to a folder where you want to create your experiment and run f3dasm.experiment.quickstart()"
   ]
  },
  {
   "cell_type": "code",
   "execution_count": 14,
   "metadata": {},
   "outputs": [
    {
     "ename": "FileExistsError",
     "evalue": "[Errno 17] File exists: '/home/martin/Documents/GitHub/F3DASM_practical/code release week/hydra'",
     "output_type": "error",
     "traceback": [
      "\u001b[0;31m---------------------------------------------------------------------------\u001b[0m",
      "\u001b[0;31mFileExistsError\u001b[0m                           Traceback (most recent call last)",
      "Cell \u001b[0;32mIn[14], line 1\u001b[0m\n\u001b[0;32m----> 1\u001b[0m f3dasm\u001b[39m.\u001b[39;49mexperiment\u001b[39m.\u001b[39;49mquickstart()\n\u001b[1;32m      4\u001b[0m \u001b[39m# I'll not run this because this is a demo\u001b[39;00m\n",
      "File \u001b[0;32m~/Documents/GitHub/F3DASM/src/f3dasm/experiment/quickstart.py:19\u001b[0m, in \u001b[0;36mquickstart\u001b[0;34m()\u001b[0m\n\u001b[1;32m     17\u001b[0m dest_file \u001b[39m=\u001b[39m os\u001b[39m.\u001b[39mpath\u001b[39m.\u001b[39mjoin(os\u001b[39m.\u001b[39mgetcwd(), file)\n\u001b[1;32m     18\u001b[0m \u001b[39mif\u001b[39;00m os\u001b[39m.\u001b[39mpath\u001b[39m.\u001b[39misdir(source_file):\n\u001b[0;32m---> 19\u001b[0m     shutil\u001b[39m.\u001b[39;49mcopytree(source_file, dest_file)\n\u001b[1;32m     20\u001b[0m \u001b[39melse\u001b[39;00m:\n\u001b[1;32m     21\u001b[0m     shutil\u001b[39m.\u001b[39mcopyfile(source_file, dest_file)\n",
      "File \u001b[0;32m~/miniconda3/envs/f3dasm_env3/lib/python3.8/shutil.py:557\u001b[0m, in \u001b[0;36mcopytree\u001b[0;34m(src, dst, symlinks, ignore, copy_function, ignore_dangling_symlinks, dirs_exist_ok)\u001b[0m\n\u001b[1;32m    555\u001b[0m \u001b[39mwith\u001b[39;00m os\u001b[39m.\u001b[39mscandir(src) \u001b[39mas\u001b[39;00m itr:\n\u001b[1;32m    556\u001b[0m     entries \u001b[39m=\u001b[39m \u001b[39mlist\u001b[39m(itr)\n\u001b[0;32m--> 557\u001b[0m \u001b[39mreturn\u001b[39;00m _copytree(entries\u001b[39m=\u001b[39;49mentries, src\u001b[39m=\u001b[39;49msrc, dst\u001b[39m=\u001b[39;49mdst, symlinks\u001b[39m=\u001b[39;49msymlinks,\n\u001b[1;32m    558\u001b[0m                  ignore\u001b[39m=\u001b[39;49mignore, copy_function\u001b[39m=\u001b[39;49mcopy_function,\n\u001b[1;32m    559\u001b[0m                  ignore_dangling_symlinks\u001b[39m=\u001b[39;49mignore_dangling_symlinks,\n\u001b[1;32m    560\u001b[0m                  dirs_exist_ok\u001b[39m=\u001b[39;49mdirs_exist_ok)\n",
      "File \u001b[0;32m~/miniconda3/envs/f3dasm_env3/lib/python3.8/shutil.py:458\u001b[0m, in \u001b[0;36m_copytree\u001b[0;34m(entries, src, dst, symlinks, ignore, copy_function, ignore_dangling_symlinks, dirs_exist_ok)\u001b[0m\n\u001b[1;32m    455\u001b[0m \u001b[39melse\u001b[39;00m:\n\u001b[1;32m    456\u001b[0m     ignored_names \u001b[39m=\u001b[39m \u001b[39mset\u001b[39m()\n\u001b[0;32m--> 458\u001b[0m os\u001b[39m.\u001b[39;49mmakedirs(dst, exist_ok\u001b[39m=\u001b[39;49mdirs_exist_ok)\n\u001b[1;32m    459\u001b[0m errors \u001b[39m=\u001b[39m []\n\u001b[1;32m    460\u001b[0m use_srcentry \u001b[39m=\u001b[39m copy_function \u001b[39mis\u001b[39;00m copy2 \u001b[39mor\u001b[39;00m copy_function \u001b[39mis\u001b[39;00m copy\n",
      "File \u001b[0;32m~/miniconda3/envs/f3dasm_env3/lib/python3.8/os.py:223\u001b[0m, in \u001b[0;36mmakedirs\u001b[0;34m(name, mode, exist_ok)\u001b[0m\n\u001b[1;32m    221\u001b[0m         \u001b[39mreturn\u001b[39;00m\n\u001b[1;32m    222\u001b[0m \u001b[39mtry\u001b[39;00m:\n\u001b[0;32m--> 223\u001b[0m     mkdir(name, mode)\n\u001b[1;32m    224\u001b[0m \u001b[39mexcept\u001b[39;00m \u001b[39mOSError\u001b[39;00m:\n\u001b[1;32m    225\u001b[0m     \u001b[39m# Cannot rely on checking for EEXIST, since the operating system\u001b[39;00m\n\u001b[1;32m    226\u001b[0m     \u001b[39m# could give priority to other errors like EACCES or EROFS\u001b[39;00m\n\u001b[1;32m    227\u001b[0m     \u001b[39mif\u001b[39;00m \u001b[39mnot\u001b[39;00m exist_ok \u001b[39mor\u001b[39;00m \u001b[39mnot\u001b[39;00m path\u001b[39m.\u001b[39misdir(name):\n",
      "\u001b[0;31mFileExistsError\u001b[0m: [Errno 17] File exists: '/home/martin/Documents/GitHub/F3DASM_practical/code release week/hydra'"
     ]
    }
   ],
   "source": [
    "f3dasm.experiment.quickstart()\n",
    "\n",
    "\n",
    "# I'll not run this because this is a demo"
   ]
  },
  {
   "cell_type": "markdown",
   "metadata": {},
   "source": [
    "This creates the following files and folders:\n",
    "\n",
    "```\n",
    "└── my_experiment \n",
    "    ├── main.py\n",
    "    ├── config.py\n",
    "    ├── config.yaml\n",
    "    ├── default.yaml\n",
    "    ├── pbsjob.sh\n",
    "    └── README.md\n",
    "    └── hydra/job_logging\n",
    "        └── custom_script.py\n",
    "```"
   ]
  },
  {
   "cell_type": "markdown",
   "metadata": {},
   "source": [
    "Without going to much in detail, the following things have already been set up automatically:\n",
    "\n",
    "**Logging**\n",
    "- `hydra` (and the `custom_script.py`) take care of all (multiprocess) logging\n",
    "- including writing across nodes when executing arrayjobs!\n",
    "\n",
    "**Saving data**\n",
    "- `hydra` creates a new `outputs/<HPC JOBID>/` directory that saves all output files, logs and settings when executing `main.py`\n",
    "- When executing arrayjobs, all arrayjobs write to the same folder!\n",
    "\n",
    "**Parameter storage**\n",
    "- `config.yaml`, `config.py` and `default.yaml` can be used for easy reproducibility and parameter tuning of your experiment!\n",
    "\n",
    "**Parallelization**\n",
    "- `pbsjob.sh` can be used to execute your `main.py` file on the HPC, including array-jobs."
   ]
  },
  {
   "cell_type": "markdown",
   "metadata": {},
   "source": []
  }
 ],
 "metadata": {
  "kernelspec": {
   "display_name": "Python 3 (ipykernel)",
   "language": "python",
   "name": "python3"
  },
  "language_info": {
   "codemirror_mode": {
    "name": "ipython",
    "version": 3
   },
   "file_extension": ".py",
   "mimetype": "text/x-python",
   "name": "python",
   "nbconvert_exporter": "python",
   "pygments_lexer": "ipython3",
   "version": "3.8.15"
  },
  "vscode": {
   "interpreter": {
    "hash": "03276761335d5ee93b82dc97db1addd68180a543fb0cacb8af76ec058b1972b7"
   }
  }
 },
 "nbformat": 4,
 "nbformat_minor": 2
}
