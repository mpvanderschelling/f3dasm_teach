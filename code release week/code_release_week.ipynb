{
 "cells": [
  {
   "cell_type": "markdown",
   "metadata": {},
   "source": [
    "# `f3dasm`: Framework for Data-Driven Design and Analysis of Structures and Materials \n",
    "*April 3rd, 2023* <br>\n",
    "*Code Release Week \\#1*"
   ]
  },
  {
   "cell_type": "markdown",
   "metadata": {},
   "source": [
    "# Table of contents\n",
    "\n",
    "**1. Project introduction**\n",
    "- 1.1 Overview\n",
    "- 1.2 Conceptual Map and use cases\n",
    "- 1.3 Computational Framework\n",
    "- 1.4 Installation and getting started\n",
    "\n",
    "**2. Demonstration**"
   ]
  },
  {
   "cell_type": "markdown",
   "metadata": {},
   "source": [
    "## 1.1 Overview"
   ]
  },
  {
   "cell_type": "markdown",
   "metadata": {},
   "source": [
    "f3dasm is an attempt to unite data-driven design and analysis of structures of materials.\n",
    "More concretely, "
   ]
  },
  {
   "cell_type": "markdown",
   "metadata": {},
   "source": [
    "## 1.2 Conceptual map and use cases"
   ]
  },
  {
   "cell_type": "markdown",
   "metadata": {},
   "source": [
    "**Using `f3dasm` to handle your design of experiments**\n",
    "- *Have your own functions and modules and coat them in a `f3dasm` sauce to manage and scale-up your experiments!*\n",
    "\n",
    "**Using `f3dasm` to benchmark or compare models**\n",
    "- *Go fully `f3dasm`: use existing implementations to benchmark parts of the data-driven machine learning process!*\n",
    "\n",
    "**Develop on `f3dasm`**\n",
    "- *Work hard, play hard: work towards making your implementations an official `f3dasm`extension!*\n",
    "\n"
   ]
  },
  {
   "cell_type": "markdown",
   "metadata": {},
   "source": [
    "## 1.4 Installation and getting started"
   ]
  },
  {
   "cell_type": "markdown",
   "metadata": {},
   "source": [
    "### System requirements\n",
    "`f3dasm` is compatible with:\n",
    "1. Python 3.7 to 3.10.\n",
    "2. the three major operations system (Linux, MacOS, Ubuntu).\n",
    "3. the default environment of Google Colab (Python 3.8, Linux) \n",
    "4. the `pip` package manager system.\n",
    "\n",
    "Installation instruction can be found in the documentation page under [Getting Started](https://bessagroup.github.io/F3DASM/gettingstarted.html)"
   ]
  },
  {
   "cell_type": "markdown",
   "metadata": {},
   "source": [
    "You can check if the installation was succesfull by importing f3dasm. It will show the installed version and the dependencies:"
   ]
  },
  {
   "cell_type": "code",
   "execution_count": 1,
   "metadata": {},
   "outputs": [
    {
     "name": "stderr",
     "output_type": "stream",
     "text": [
      "2023-03-30 21:46:05,061 - Imported f3dasm (version: 0.2.98)\n",
      "2023-03-30 21:46:05.862783: I tensorflow/core/platform/cpu_feature_guard.cc:193] This TensorFlow binary is optimized with oneAPI Deep Neural Network Library (oneDNN) to use the following CPU instructions in performance-critical operations:  AVX2 AVX512F AVX512_VNNI FMA\n",
      "To enable them in other operations, rebuild TensorFlow with the appropriate compiler flags.\n",
      "2023-03-30 21:46:06.019568: I tensorflow/core/util/port.cc:104] oneDNN custom operations are on. You may see slightly different numerical results due to floating-point round-off errors from different computation orders. To turn them off, set the environment variable `TF_ENABLE_ONEDNN_OPTS=0`.\n",
      "2023-03-30 21:46:06.711568: W tensorflow/compiler/xla/stream_executor/platform/default/dso_loader.cc:64] Could not load dynamic library 'libnvinfer.so.7'; dlerror: libnvinfer.so.7: cannot open shared object file: No such file or directory; LD_LIBRARY_PATH: /usr/local/cuda-11.1/lib64:/usr/local/cuda-11.1/lib64\n",
      "2023-03-30 21:46:06.711643: W tensorflow/compiler/xla/stream_executor/platform/default/dso_loader.cc:64] Could not load dynamic library 'libnvinfer_plugin.so.7'; dlerror: libnvinfer_plugin.so.7: cannot open shared object file: No such file or directory; LD_LIBRARY_PATH: /usr/local/cuda-11.1/lib64:/usr/local/cuda-11.1/lib64\n",
      "2023-03-30 21:46:06.711649: W tensorflow/compiler/tf2tensorrt/utils/py_utils.cc:38] TF-TRT Warning: Cannot dlopen some TensorRT libraries. If you would like to use Nvidia GPU with TensorRT, please make sure the missing libraries mentioned above are installed properly.\n"
     ]
    }
   ],
   "source": [
    "import f3dasm"
   ]
  },
  {
   "cell_type": "markdown",
   "metadata": {},
   "source": [
    "#### Distinction between python package and repository\n",
    "- The Python  PyPI package (`pip install f3dasm`) contains the code that is used when installing the package as a **user**. It contains only the `main` branch version.\n",
    "- The GitHub repository is mainly for **developers** and besides the package includes:\n",
    "  - Studies (more on that later)\n",
    "  - Test suite\n",
    "  - Documentation source\n",
    "  - Tutorial notebooks"
   ]
  },
  {
   "cell_type": "markdown",
   "metadata": {},
   "source": [
    "### Extensions\n",
    "\n",
    "- The package contains a lot of implementation for each of the blocks.\n",
    "- The installation of dependencies of `f3dasm` is modular: you decide what you want to use or not.\n",
    "\n",
    "We can distinguish three ways of using `f3dasm`:"
   ]
  },
  {
   "cell_type": "markdown",
   "metadata": {},
   "source": [
    "#### Using `f3dasm` to handle your design of experiments\n",
    "*Have your own functions and modules and coat them in a `f3dasm` sauce to manage and scale-up your experiments!*\n",
    "\n",
    "The **core** package: contains the minimal installation to use `f3dasm` without extended features. \n",
    "Installed with `pip install f3dasm`\n",
    "\n",
    "The core package contains the following features:\n",
    "1. provide a way to parametrize your experiment with the **design-of-experiments** classes.\n",
    "2. provide the option to investigate their experiment by **sampling** and **optimizing** their design.\n",
    "3. provide the user guidance in **parallelizing** their program and ordering their data.\n",
    "4. give the user ways of deploying their **experiment** at the HPC (TORQUE system)\n",
    "\n",
    "The core package requires the following dependencies:\n",
    "- `numpy` and `scipy`: for numerical operations\n",
    "- `pandas`: for the representation of the design of experiments\n",
    "- `matplotlib`: for plotting\n",
    "- `hydra-core`: for deploying your experiment \n",
    "- `pathos`: for multiprocessing\n",
    "- `autograd`: for computing gradients"
   ]
  },
  {
   "cell_type": "markdown",
   "metadata": {},
   "source": [
    "#### Using `f3dasm` to benchmark or compare models\n",
    "*Go fully `f3dasm`: use existing implementations to benchmark parts of the data-driven machine learning process!*\n",
    "\n",
    "You can solely use the core package, but it is advised to enrich `f3dasm` with its **extensions** \n",
    "\n",
    "The extensions contain the following features:\n",
    "1. provide various **implementations** to accommodate common machine learning workflows.\n",
    "2. provide **adapter** classes that link common machine learning libraries to `f3dasm` base classes. \n",
    "\n",
    "\n",
    "For each of the blocks, extensions can be installed to extend the choice of implementations. Installed with `pip install f3dasm[<name of extension>]`\n",
    "\n",
    "The following extensions are available:\n",
    "- **machinelearning**: containing various `tensorflow` related models\n",
    "- **sampling**: containing sampling strategies from `SALib`\n",
    "- **optimization**: containing various optimizers from `GPyOpt`, `pygmo` and `tensorflow`\n"
   ]
  },
  {
   "cell_type": "markdown",
   "metadata": {},
   "source": [
    "#### Develop on `f3dasm`\n",
    "*Work hard, play hard: work towards making your implementations an official `f3dasm` extension!*\n",
    "\n",
    "If you want your implementation to be part of the `f3dasm` package, you can develop an adapter and/or implementation for `f3dasm`\n",
    "\n",
    "The **developement** package: contains the full installation plus requirements for developing on `f3dasm`. \n",
    "Installed with `pip install f3dasm[dev]`\n",
    "\n",
    "Information on how to contribute to `f3dasm` can be found [on the wiki page of the GitHub repository](https://github.com/bessagroup/F3DASM/wiki)!"
   ]
  },
  {
   "cell_type": "markdown",
   "metadata": {},
   "source": [
    "## 2. Demonstration"
   ]
  },
  {
   "cell_type": "markdown",
   "metadata": {},
   "source": [
    "Import some other packages and set a seed"
   ]
  },
  {
   "cell_type": "code",
   "execution_count": 2,
   "metadata": {},
   "outputs": [],
   "source": [
    "import numpy as np\n",
    "import logging\n",
    "from pathos.helpers import mp  # For multiprocessing!\n",
    "import time # For ... timing!\n",
    "\n",
    "SEED = 42"
   ]
  },
  {
   "cell_type": "markdown",
   "metadata": {},
   "source": [
    "### Example: Set up your program with f3dasm\n",
    "\n",
    "Let's say we have a program that we want to execute. It is important that this could be **anything**. Like:\n",
    "- Calculate the loss of some compliance curve in topology optimization\n",
    "- Computing the mean stress and strain from some abaqus simulation\n",
    "- Benchmarking various regressors in a multi-fidelity setting"
   ]
  },
  {
   "cell_type": "markdown",
   "metadata": {},
   "source": [
    "At the top level of your experiment, you will probably have a main function that accepts some arguments and returns the quantity of interest.\n",
    "\n",
    "Let's create such a function, just for demonstration purposes."
   ]
  },
  {
   "cell_type": "code",
   "execution_count": 3,
   "metadata": {},
   "outputs": [],
   "source": [
    "def main(a: float, b: float, c: float) -> float:    \n",
    "    functions = [f3dasm.functions.Rastrigin, f3dasm.functions.Levy, f3dasm.functions.Ackley]\n",
    "    y = []\n",
    "    for func in functions:\n",
    "        f = func(dimensionality=3, scale_bounds=np.tile([-1.,1.], (3,1)))\n",
    "        time.sleep(.1)\n",
    "        y.append(f(np.array([a,b,c])).ravel()[0])\n",
    "\n",
    "    # Sum the values\n",
    "    out = sum(y)\n",
    "    logging.info(f\"Executed program with a={a:.3f}, b={b:.3f}, c={c:.3f}: \\t Result {out:.3f}\")\n",
    "    return out"
   ]
  },
  {
   "cell_type": "markdown",
   "metadata": {},
   "source": [
    "What are we seeing:\n",
    "- The program requires three floating points and returns a float as well.\n",
    "- It creates three 3D-benchmark functions, evaluates them sequentially and sums the results\n",
    "- We simulate some computational cost (0.1 seconds per evaluation) by calling the `time.sleep()` method\n",
    "- We write to a log\n",
    "\n",
    "> Note: `my_own_program` uses the integrated benchmark functions from `f3dasm`, but this could very well be one of your codes without any dependency on `f3dasm`."
   ]
  },
  {
   "cell_type": "markdown",
   "metadata": {},
   "source": [
    "Executing multiple experiments is easy:"
   ]
  },
  {
   "cell_type": "code",
   "execution_count": 4,
   "metadata": {},
   "outputs": [
    {
     "name": "stderr",
     "output_type": "stream",
     "text": [
      "2023-03-30 21:46:08,348 - Executed program with a=0.630, b=0.084, c=0.420: \t Result 137.605\n",
      "2023-03-30 21:46:08,653 - Executed program with a=0.565, b=0.720, c=0.958: \t Result 161.074\n",
      "2023-03-30 21:46:08,958 - Executed program with a=0.186, b=0.529, c=0.109: \t Result 54.651\n",
      "2023-03-30 21:46:09,261 - Executed program with a=0.088, b=0.838, c=0.969: \t Result 193.849\n",
      "2023-03-30 21:46:09,566 - Executed program with a=0.850, b=0.437, c=0.872: \t Result 153.952\n",
      "2023-03-30 21:46:09,870 - Executed program with a=0.670, b=0.831, c=0.591: \t Result 177.828\n",
      "2023-03-30 21:46:10,175 - Executed program with a=0.529, b=0.785, c=0.642: \t Result 147.754\n",
      "2023-03-30 21:46:10,480 - Executed program with a=0.406, b=0.915, c=0.196: \t Result 85.978\n",
      "2023-03-30 21:46:10,784 - Executed program with a=0.290, b=0.636, c=0.783: \t Result 113.106\n",
      "2023-03-30 21:46:11,089 - Executed program with a=0.505, b=0.688, c=0.987: \t Result 281.849\n"
     ]
    },
    {
     "name": "stdout",
     "output_type": "stream",
     "text": [
      "It took 3.04659 seconds to execute this for loop\n"
     ]
    }
   ],
   "source": [
    "inputs = np.random.uniform(size=(10,3))\n",
    "\n",
    "start_time = time.time()\n",
    "outputs = np.array([main(*input_vals) for input_vals in inputs])\n",
    "time_not_parallel = time.time() - start_time\n",
    "\n",
    "print(f\"It took {time_not_parallel:.5f} seconds to execute this for loop\")"
   ]
  },
  {
   "cell_type": "markdown",
   "metadata": {},
   "source": [
    "We can save the values of `outputs` for later use"
   ]
  },
  {
   "cell_type": "markdown",
   "metadata": {},
   "source": [
    "This process (`main.py`) can be described with the following figure:"
   ]
  },
  {
   "cell_type": "markdown",
   "metadata": {},
   "source": [
    "<img src=\"sequential.png\" alt=\"alt text\" width=\"30%\" height=\"30%\">"
   ]
  },
  {
   "cell_type": "markdown",
   "metadata": {},
   "source": [
    "### Local parallelization\n",
    "\n",
    "If you are familiar with [multiprocessing](https://docs.python.org/3/library/multiprocessing.html), you might already know that we can speed-up this function by parellizing the internal for loop:\n",
    "\n",
    "We create a multiprocessing pool (`mp.Pool()`) where we map the functions to cores in our machine:"
   ]
  },
  {
   "cell_type": "code",
   "execution_count": 5,
   "metadata": {},
   "outputs": [],
   "source": [
    "def main_parallel(a: float, b: float, c: float) -> float:\n",
    "    def evaluate_function(func, a, b, c):\n",
    "        f = func(dimensionality=3, scale_bounds=np.tile([-1.,1.], (3,1)))\n",
    "        y = f(np.array([a,b,c])).ravel()[0]\n",
    "        time.sleep(.1)\n",
    "        return y\n",
    "\n",
    "    functions = [f3dasm.functions.Rastrigin, f3dasm.functions.Levy, f3dasm.functions.Ackley]\n",
    "    with mp.Pool() as pool:\n",
    "        y = pool.starmap(evaluate_function, [(func, a, b, c) for func in functions])\n",
    "\n",
    "    # Sum the values\n",
    "    out = sum(y)\n",
    "\n",
    "    logging.info(f\"Executed program with a={a:.3f}, b={b:.3f}, c={c:.3f}: \\t Result: {out:.3f}\")\n",
    "    return out"
   ]
  },
  {
   "cell_type": "markdown",
   "metadata": {},
   "source": [
    "Executing this function will speed up the process"
   ]
  },
  {
   "cell_type": "code",
   "execution_count": 6,
   "metadata": {},
   "outputs": [
    {
     "name": "stderr",
     "output_type": "stream",
     "text": [
      "2023-03-30 21:46:11,521 - Executed program with a=0.436, b=0.984, c=0.352: \t Result: 172.199\n",
      "2023-03-30 21:46:11,772 - Executed program with a=0.199, b=0.694, c=0.083: \t Result: 109.216\n",
      "2023-03-30 21:46:12,035 - Executed program with a=0.169, b=0.083, c=0.364: \t Result: 115.599\n",
      "2023-03-30 21:46:12,312 - Executed program with a=0.547, b=0.039, c=0.409: \t Result: 173.194\n",
      "2023-03-30 21:46:12,555 - Executed program with a=0.825, b=0.674, c=0.739: \t Result: 260.838\n",
      "2023-03-30 21:46:12,822 - Executed program with a=0.185, b=0.829, c=0.219: \t Result: 106.291\n",
      "2023-03-30 21:46:13,126 - Executed program with a=0.388, b=0.790, c=0.910: \t Result: 242.613\n",
      "2023-03-30 21:46:13,448 - Executed program with a=0.269, b=0.725, c=0.596: \t Result: 163.385\n",
      "2023-03-30 21:46:13,737 - Executed program with a=0.156, b=0.764, c=0.035: \t Result: 102.934\n",
      "2023-03-30 21:46:14,001 - Executed program with a=0.576, b=0.422, c=0.542: \t Result: 165.176\n"
     ]
    },
    {
     "name": "stdout",
     "output_type": "stream",
     "text": [
      "It took 2.70007 seconds to execute this for loop\n",
      "We are 0.34652 seconds faster by parellelization!\n"
     ]
    }
   ],
   "source": [
    "inputs = np.random.uniform(size=(10,3))\n",
    "\n",
    "start_time = time.time()\n",
    "outputs = np.array([main_parallel(*input_vals) for input_vals in inputs])\n",
    "time_parallel = time.time() - start_time\n",
    "\n",
    "print(f\"It took {time_parallel:.5f} seconds to execute this for loop\")\n",
    "print(f\"We are {time_not_parallel-time_parallel:.5f} seconds faster by parellelization!\")"
   ]
  },
  {
   "cell_type": "markdown",
   "metadata": {},
   "source": [
    "This process (`main_parallel.py`) can be described with the following figure:"
   ]
  },
  {
   "cell_type": "markdown",
   "metadata": {},
   "source": [
    "<img src=\"parallel.png\" alt=\"alt text\" width=\"30%\" height=\"30%\">"
   ]
  },
  {
   "cell_type": "markdown",
   "metadata": {},
   "source": [
    "### Scale-up: challenges\n",
    "\n",
    "Now we would like to really scale things up. \n",
    "\n",
    "Q) What challenges lie along the way?"
   ]
  },
  {
   "cell_type": "markdown",
   "metadata": {},
   "source": [
    "I asked ChatGPT:"
   ]
  },
  {
   "cell_type": "markdown",
   "metadata": {},
   "source": [
    "- **1. Experiment design and analysis**: As the complexity of the experiment increases, it becomes more difficult to design experiments that are robust and reproducible, and to analyze the results in a meaningful way. This can lead to issues with experimental design, parameter tuning, and statistical analysis.\n",
    "\n",
    "- **2. Parallelization and distribution**: As experiments become larger, it may be necessary to parallelize or distribute the computations across multiple machines or nodes in order to reduce the overall runtime. This introduces additional challenges such as synchronization between distributed processes.\n",
    "\n",
    "- **3. Managing data**: As the volume of data generated by an experiment increases, it becomes more difficult to manage and store that data. This can lead to issues with data corruption, loss, or inconsistency."
   ]
  },
  {
   "cell_type": "markdown",
   "metadata": {},
   "source": [
    "This is where `f3dasm` is a helping hand!"
   ]
  },
  {
   "cell_type": "markdown",
   "metadata": {},
   "source": [
    "#### 1. Experiment design and analysis\n",
    "\n",
    "We can create a `f3dasm.DesignSpace` to capture the variables of interest:\n",
    "- A `f3dasm.DesignSpace` consists of an input and output list of `f3dasm.Parameter` objects"
   ]
  },
  {
   "cell_type": "code",
   "execution_count": 7,
   "metadata": {},
   "outputs": [],
   "source": [
    "param_a = f3dasm.ContinuousParameter(name='a', lower_bound=-1., upper_bound=1.)\n",
    "param_b = f3dasm.ContinuousParameter(name='b', lower_bound=-1., upper_bound=1.)\n",
    "param_c = f3dasm.ContinuousParameter(name='c', lower_bound=-1., upper_bound=1.)\n",
    "param_out = f3dasm.ContinuousParameter(name='y')\n",
    "\n",
    "design = f3dasm.DesignSpace(input_space=[param_a, param_b, param_c], output_space=[param_out])"
   ]
  },
  {
   "cell_type": "markdown",
   "metadata": {},
   "source": [
    "We can create an object to store the experiments: `f3dasm.ExperimentData`, but we can also **sample from this designspace**\n",
    "We do that with the `f3dasm.sampling` submodule:\n",
    "\n",
    "> Note that this submodule offers an extension (`f3dasm[sampling]`) that include sampling strategies from `SALib` "
   ]
  },
  {
   "cell_type": "code",
   "execution_count": 8,
   "metadata": {},
   "outputs": [],
   "source": [
    "# Create the sampler object\n",
    "sampler = f3dasm.sampling.RandomUniform(design=design, seed=SEED)\n",
    "\n",
    "data: f3dasm.ExperimentData = sampler.get_samples(numsamples=10)"
   ]
  },
  {
   "cell_type": "markdown",
   "metadata": {},
   "source": [
    "The data object is under the hood a pandas dataframe:"
   ]
  },
  {
   "cell_type": "code",
   "execution_count": 9,
   "metadata": {},
   "outputs": [
    {
     "data": {
      "text/html": [
       "<div>\n",
       "<style scoped>\n",
       "    .dataframe tbody tr th:only-of-type {\n",
       "        vertical-align: middle;\n",
       "    }\n",
       "\n",
       "    .dataframe tbody tr th {\n",
       "        vertical-align: top;\n",
       "    }\n",
       "\n",
       "    .dataframe thead tr th {\n",
       "        text-align: left;\n",
       "    }\n",
       "</style>\n",
       "<table border=\"1\" class=\"dataframe\">\n",
       "  <thead>\n",
       "    <tr>\n",
       "      <th></th>\n",
       "      <th colspan=\"3\" halign=\"left\">input</th>\n",
       "      <th>output</th>\n",
       "    </tr>\n",
       "    <tr>\n",
       "      <th></th>\n",
       "      <th>a</th>\n",
       "      <th>b</th>\n",
       "      <th>c</th>\n",
       "      <th>y</th>\n",
       "    </tr>\n",
       "  </thead>\n",
       "  <tbody>\n",
       "    <tr>\n",
       "      <th>0</th>\n",
       "      <td>-0.250920</td>\n",
       "      <td>0.901429</td>\n",
       "      <td>0.463988</td>\n",
       "      <td>NaN</td>\n",
       "    </tr>\n",
       "    <tr>\n",
       "      <th>1</th>\n",
       "      <td>0.197317</td>\n",
       "      <td>-0.687963</td>\n",
       "      <td>-0.688011</td>\n",
       "      <td>NaN</td>\n",
       "    </tr>\n",
       "    <tr>\n",
       "      <th>2</th>\n",
       "      <td>-0.883833</td>\n",
       "      <td>0.732352</td>\n",
       "      <td>0.202230</td>\n",
       "      <td>NaN</td>\n",
       "    </tr>\n",
       "    <tr>\n",
       "      <th>3</th>\n",
       "      <td>0.416145</td>\n",
       "      <td>-0.958831</td>\n",
       "      <td>0.939820</td>\n",
       "      <td>NaN</td>\n",
       "    </tr>\n",
       "    <tr>\n",
       "      <th>4</th>\n",
       "      <td>0.664885</td>\n",
       "      <td>-0.575322</td>\n",
       "      <td>-0.636350</td>\n",
       "      <td>NaN</td>\n",
       "    </tr>\n",
       "    <tr>\n",
       "      <th>5</th>\n",
       "      <td>-0.633191</td>\n",
       "      <td>-0.391516</td>\n",
       "      <td>0.049513</td>\n",
       "      <td>NaN</td>\n",
       "    </tr>\n",
       "    <tr>\n",
       "      <th>6</th>\n",
       "      <td>-0.136110</td>\n",
       "      <td>-0.417542</td>\n",
       "      <td>0.223706</td>\n",
       "      <td>NaN</td>\n",
       "    </tr>\n",
       "    <tr>\n",
       "      <th>7</th>\n",
       "      <td>-0.721012</td>\n",
       "      <td>-0.415711</td>\n",
       "      <td>-0.267276</td>\n",
       "      <td>NaN</td>\n",
       "    </tr>\n",
       "    <tr>\n",
       "      <th>8</th>\n",
       "      <td>-0.087860</td>\n",
       "      <td>0.570352</td>\n",
       "      <td>-0.600652</td>\n",
       "      <td>NaN</td>\n",
       "    </tr>\n",
       "    <tr>\n",
       "      <th>9</th>\n",
       "      <td>0.028469</td>\n",
       "      <td>0.184829</td>\n",
       "      <td>-0.907099</td>\n",
       "      <td>NaN</td>\n",
       "    </tr>\n",
       "  </tbody>\n",
       "</table>\n",
       "</div>"
      ],
      "text/plain": [
       "      input                     output\n",
       "          a         b         c      y\n",
       "0 -0.250920  0.901429  0.463988    NaN\n",
       "1  0.197317 -0.687963 -0.688011    NaN\n",
       "2 -0.883833  0.732352  0.202230    NaN\n",
       "3  0.416145 -0.958831  0.939820    NaN\n",
       "4  0.664885 -0.575322 -0.636350    NaN\n",
       "5 -0.633191 -0.391516  0.049513    NaN\n",
       "6 -0.136110 -0.417542  0.223706    NaN\n",
       "7 -0.721012 -0.415711 -0.267276    NaN\n",
       "8 -0.087860  0.570352 -0.600652    NaN\n",
       "9  0.028469  0.184829 -0.907099    NaN"
      ]
     },
     "execution_count": 9,
     "metadata": {},
     "output_type": "execute_result"
    }
   ],
   "source": [
    "data.data"
   ]
  },
  {
   "cell_type": "markdown",
   "metadata": {},
   "source": [
    "The `y` values are NaN because we haven't evaluate our experiment yet! Let's do that:"
   ]
  },
  {
   "cell_type": "markdown",
   "metadata": {},
   "source": [
    "Handy: we can retrieve the input columns of a specific row as a dictionary"
   ]
  },
  {
   "cell_type": "code",
   "execution_count": 10,
   "metadata": {},
   "outputs": [
    {
     "data": {
      "text/plain": [
       "{'a': 0.416145155592091, 'b': -0.9588310114083951, 'c': 0.9398197043239886}"
      ]
     },
     "execution_count": 10,
     "metadata": {},
     "output_type": "execute_result"
    }
   ],
   "source": [
    "data.get_inputdata_by_index(index=3)"
   ]
  },
  {
   "cell_type": "markdown",
   "metadata": {},
   "source": [
    "Unpacking the values as arguments of our experiment creates the same results:"
   ]
  },
  {
   "cell_type": "code",
   "execution_count": 11,
   "metadata": {},
   "outputs": [
    {
     "name": "stderr",
     "output_type": "stream",
     "text": [
      "2023-03-30 21:46:14,878 - Executed program with a=-0.251, b=0.901, c=0.464: \t Result: 261.134\n",
      "2023-03-30 21:46:15,111 - Executed program with a=0.197, b=-0.688, c=-0.688: \t Result: 19.109\n",
      "2023-03-30 21:46:15,324 - Executed program with a=-0.884, b=0.732, c=0.202: \t Result: 321.825\n",
      "2023-03-30 21:46:15,545 - Executed program with a=0.416, b=-0.959, c=0.940: \t Result: 170.930\n",
      "2023-03-30 21:46:15,807 - Executed program with a=0.665, b=-0.575, c=-0.636: \t Result: 79.458\n",
      "2023-03-30 21:46:16,067 - Executed program with a=-0.633, b=-0.392, c=0.050: \t Result: 139.412\n",
      "2023-03-30 21:46:16,334 - Executed program with a=-0.136, b=-0.418, c=0.224: \t Result: 115.536\n",
      "2023-03-30 21:46:16,599 - Executed program with a=-0.721, b=-0.416, c=-0.267: \t Result: 83.109\n",
      "2023-03-30 21:46:16,868 - Executed program with a=-0.088, b=0.570, c=-0.601: \t Result: 215.214\n",
      "2023-03-30 21:46:17,134 - Executed program with a=0.028, b=0.185, c=-0.907: \t Result: 109.803\n"
     ]
    }
   ],
   "source": [
    "for index in range(data.get_number_of_datapoints()):\n",
    "    value = main_parallel(**data.get_inputdata_by_index(index))\n",
    "    data.set_outputdata_by_index(index, value)"
   ]
  },
  {
   "cell_type": "markdown",
   "metadata": {},
   "source": [
    "Now our data-object is filled"
   ]
  },
  {
   "cell_type": "code",
   "execution_count": 12,
   "metadata": {},
   "outputs": [
    {
     "data": {
      "text/html": [
       "<div>\n",
       "<style scoped>\n",
       "    .dataframe tbody tr th:only-of-type {\n",
       "        vertical-align: middle;\n",
       "    }\n",
       "\n",
       "    .dataframe tbody tr th {\n",
       "        vertical-align: top;\n",
       "    }\n",
       "\n",
       "    .dataframe thead tr th {\n",
       "        text-align: left;\n",
       "    }\n",
       "</style>\n",
       "<table border=\"1\" class=\"dataframe\">\n",
       "  <thead>\n",
       "    <tr>\n",
       "      <th></th>\n",
       "      <th colspan=\"3\" halign=\"left\">input</th>\n",
       "      <th>output</th>\n",
       "    </tr>\n",
       "    <tr>\n",
       "      <th></th>\n",
       "      <th>a</th>\n",
       "      <th>b</th>\n",
       "      <th>c</th>\n",
       "      <th>y</th>\n",
       "    </tr>\n",
       "  </thead>\n",
       "  <tbody>\n",
       "    <tr>\n",
       "      <th>0</th>\n",
       "      <td>-0.250920</td>\n",
       "      <td>0.901429</td>\n",
       "      <td>0.463988</td>\n",
       "      <td>261.134214</td>\n",
       "    </tr>\n",
       "    <tr>\n",
       "      <th>1</th>\n",
       "      <td>0.197317</td>\n",
       "      <td>-0.687963</td>\n",
       "      <td>-0.688011</td>\n",
       "      <td>19.109039</td>\n",
       "    </tr>\n",
       "    <tr>\n",
       "      <th>2</th>\n",
       "      <td>-0.883833</td>\n",
       "      <td>0.732352</td>\n",
       "      <td>0.202230</td>\n",
       "      <td>321.825051</td>\n",
       "    </tr>\n",
       "    <tr>\n",
       "      <th>3</th>\n",
       "      <td>0.416145</td>\n",
       "      <td>-0.958831</td>\n",
       "      <td>0.939820</td>\n",
       "      <td>170.930424</td>\n",
       "    </tr>\n",
       "    <tr>\n",
       "      <th>4</th>\n",
       "      <td>0.664885</td>\n",
       "      <td>-0.575322</td>\n",
       "      <td>-0.636350</td>\n",
       "      <td>79.458296</td>\n",
       "    </tr>\n",
       "    <tr>\n",
       "      <th>5</th>\n",
       "      <td>-0.633191</td>\n",
       "      <td>-0.391516</td>\n",
       "      <td>0.049513</td>\n",
       "      <td>139.411721</td>\n",
       "    </tr>\n",
       "    <tr>\n",
       "      <th>6</th>\n",
       "      <td>-0.136110</td>\n",
       "      <td>-0.417542</td>\n",
       "      <td>0.223706</td>\n",
       "      <td>115.535908</td>\n",
       "    </tr>\n",
       "    <tr>\n",
       "      <th>7</th>\n",
       "      <td>-0.721012</td>\n",
       "      <td>-0.415711</td>\n",
       "      <td>-0.267276</td>\n",
       "      <td>83.109400</td>\n",
       "    </tr>\n",
       "    <tr>\n",
       "      <th>8</th>\n",
       "      <td>-0.087860</td>\n",
       "      <td>0.570352</td>\n",
       "      <td>-0.600652</td>\n",
       "      <td>215.214311</td>\n",
       "    </tr>\n",
       "    <tr>\n",
       "      <th>9</th>\n",
       "      <td>0.028469</td>\n",
       "      <td>0.184829</td>\n",
       "      <td>-0.907099</td>\n",
       "      <td>109.803282</td>\n",
       "    </tr>\n",
       "  </tbody>\n",
       "</table>\n",
       "</div>"
      ],
      "text/plain": [
       "      input                          output\n",
       "          a         b         c           y\n",
       "0 -0.250920  0.901429  0.463988  261.134214\n",
       "1  0.197317 -0.687963 -0.688011   19.109039\n",
       "2 -0.883833  0.732352  0.202230  321.825051\n",
       "3  0.416145 -0.958831  0.939820  170.930424\n",
       "4  0.664885 -0.575322 -0.636350   79.458296\n",
       "5 -0.633191 -0.391516  0.049513  139.411721\n",
       "6 -0.136110 -0.417542  0.223706  115.535908\n",
       "7 -0.721012 -0.415711 -0.267276   83.109400\n",
       "8 -0.087860  0.570352 -0.600652  215.214311\n",
       "9  0.028469  0.184829 -0.907099  109.803282"
      ]
     },
     "execution_count": 12,
     "metadata": {},
     "output_type": "execute_result"
    }
   ],
   "source": [
    "data.data"
   ]
  },
  {
   "cell_type": "markdown",
   "metadata": {},
   "source": [
    "This process can be described with the following figure:"
   ]
  },
  {
   "cell_type": "markdown",
   "metadata": {},
   "source": [
    "<img src=\"single_node.png\" alt=\"alt text\" width=\"30%\" height=\"30%\">"
   ]
  },
  {
   "cell_type": "markdown",
   "metadata": {},
   "source": [
    "#### 2. Paralellization and distribution\n",
    "\n",
    "`f3dasm` can handle paralellization to the HPC cluster and experiment distribution. \n",
    "\n",
    "In order to set this up, navigate to a folder where you want to create your experiment and run f3dasm.experiment.quickstart()"
   ]
  },
  {
   "cell_type": "code",
   "execution_count": 13,
   "metadata": {},
   "outputs": [],
   "source": [
    "# I'll not run this command because this is a demo\n",
    "\n",
    "# f3dasm.experiment.quickstart()"
   ]
  },
  {
   "cell_type": "markdown",
   "metadata": {},
   "source": [
    "This creates the following files and folders:\n",
    "\n",
    "```\n",
    "└── my_experiment \n",
    "    ├── main.py\n",
    "    ├── config.py\n",
    "    ├── config.yaml\n",
    "    ├── default.yaml\n",
    "    ├── pbsjob.sh\n",
    "    └── README.md\n",
    "    └── hydra/job_logging\n",
    "        └── custom_script.py\n",
    "```"
   ]
  },
  {
   "cell_type": "markdown",
   "metadata": {},
   "source": [
    "Without going to much in detail, the following things have already been set up automatically:"
   ]
  },
  {
   "cell_type": "markdown",
   "metadata": {},
   "source": [
    "**Logging**\n",
    "- `hydra` (and the `custom_script.py`) take care of all (multiprocess) logging\n",
    "- including writing across nodes when executing arrayjobs!"
   ]
  },
  {
   "cell_type": "markdown",
   "metadata": {},
   "source": [
    "**Parameter storage**\n",
    "- `config.yaml`, `config.py` and `default.yaml` can be used for easy reproducibility and parameter tuning of your experiment!"
   ]
  },
  {
   "cell_type": "markdown",
   "metadata": {},
   "source": [
    "**Parallelization**\n",
    "- `pbsjob.sh` can be used to execute your `main.py` file on the HPC, including array-jobs.\n",
    "\n",
    "example:\n",
    "```\n",
    "qsub pbsjob.sh\n",
    "qsub pbsjob.sh -t 0-10\n",
    "```"
   ]
  },
  {
   "cell_type": "markdown",
   "metadata": {},
   "source": [
    "**Saving data**\n",
    "- `hydra` creates a new `outputs/<HPC JOBID>/` directory that saves all output files, logs and settings when executing `main.py`\n",
    "- When executing arrayjobs, all arrayjobs write to the same folder!"
   ]
  },
  {
   "cell_type": "markdown",
   "metadata": {},
   "source": [
    "#### 3. Managing data\n",
    "\n",
    "Let's recall: our single node process with `f3dasm.ExperimentData` can be abstracted by the following image:"
   ]
  },
  {
   "cell_type": "markdown",
   "metadata": {},
   "source": [
    "<img src=\"single_node.png\" alt=\"alt text\" width=\"30%\" height=\"30%\">"
   ]
  },
  {
   "cell_type": "markdown",
   "metadata": {},
   "source": [
    "Parallelizing the **outer loop** is more difficult, but we can do that across nodes with help of the `f3dasm.experiment.JobQueue`\n"
   ]
  },
  {
   "cell_type": "code",
   "execution_count": 22,
   "metadata": {},
   "outputs": [
    {
     "data": {
      "text/plain": [
       "{0: 'open', 1: 'open', 2: 'open', 3: 'open', 4: 'open', 5: 'open', 6: 'open', 7: 'open', 8: 'open', 9: 'open'}"
      ]
     },
     "execution_count": 22,
     "metadata": {},
     "output_type": "execute_result"
    }
   ],
   "source": [
    "job_queue = f3dasm.experiment.JobQueue(filename='my_jobs')\n"
   ]
  },
  {
   "cell_type": "markdown",
   "metadata": {},
   "source": [
    "We can fill the queue with the rows of the `f3dasm.ExperimentData` object:"
   ]
  },
  {
   "cell_type": "code",
   "execution_count": 23,
   "metadata": {},
   "outputs": [
    {
     "data": {
      "text/plain": [
       "{0: 'open', 1: 'open', 2: 'open', 3: 'open', 4: 'open', 5: 'open', 6: 'open', 7: 'open', 8: 'open', 9: 'open'}"
      ]
     },
     "execution_count": 23,
     "metadata": {},
     "output_type": "execute_result"
    }
   ],
   "source": [
    "job_queue.create_jobs_from_experimentdata(data)\n",
    "job_queue"
   ]
  },
  {
   "cell_type": "markdown",
   "metadata": {},
   "source": [
    "10 jobs have been added and they are all up for grabs!\n",
    "\n",
    "Let's first write this to disk so multiple nodes can access it:"
   ]
  },
  {
   "cell_type": "code",
   "execution_count": 24,
   "metadata": {},
   "outputs": [],
   "source": [
    "job_queue.write_new_jobfile()"
   ]
  },
  {
   "cell_type": "markdown",
   "metadata": {},
   "source": [
    "A node can grab the first available job in the queue with the `get()` method:\n",
    "The file is locked when accessing the information from the JSON file\n"
   ]
  },
  {
   "cell_type": "code",
   "execution_count": 26,
   "metadata": {},
   "outputs": [
    {
     "name": "stdout",
     "output_type": "stream",
     "text": [
      "The first open job_id is 1!\n"
     ]
    }
   ],
   "source": [
    "job_id = job_queue.get()\n",
    "print(f\"The first open job_id is {job_id}!\")"
   ]
  },
  {
   "cell_type": "markdown",
   "metadata": {},
   "source": [
    "After returning the `job_id`, the lock is removed and the job is changed to `in progress`"
   ]
  },
  {
   "cell_type": "code",
   "execution_count": 28,
   "metadata": {},
   "outputs": [
    {
     "data": {
      "text/plain": [
       "{0: 'in progress',\n",
       " 1: 'in progress',\n",
       " 2: 'open',\n",
       " 3: 'open',\n",
       " 4: 'open',\n",
       " 5: 'open',\n",
       " 6: 'open',\n",
       " 7: 'open',\n",
       " 8: 'open',\n",
       " 9: 'open'}"
      ]
     },
     "execution_count": 28,
     "metadata": {},
     "output_type": "execute_result"
    }
   ],
   "source": [
    "job_queue.get_jobs()"
   ]
  },
  {
   "cell_type": "markdown",
   "metadata": {},
   "source": [
    "When a new node asks a new job, it will return the next open job in line!"
   ]
  },
  {
   "cell_type": "code",
   "execution_count": 29,
   "metadata": {},
   "outputs": [
    {
     "name": "stdout",
     "output_type": "stream",
     "text": [
      "The first open job_id is 2!\n"
     ]
    }
   ],
   "source": [
    "job_id = job_queue.get()\n",
    "print(f\"The first open job_id is {job_id}!\")"
   ]
  },
  {
   "cell_type": "markdown",
   "metadata": {},
   "source": [
    "When a job is finished, you can mark it finished or with an error:"
   ]
  },
  {
   "cell_type": "code",
   "execution_count": 30,
   "metadata": {},
   "outputs": [
    {
     "data": {
      "text/plain": [
       "{0: 'finished',\n",
       " 1: 'error',\n",
       " 2: 'in progress',\n",
       " 3: 'open',\n",
       " 4: 'open',\n",
       " 5: 'open',\n",
       " 6: 'open',\n",
       " 7: 'open',\n",
       " 8: 'open',\n",
       " 9: 'open'}"
      ]
     },
     "execution_count": 30,
     "metadata": {},
     "output_type": "execute_result"
    }
   ],
   "source": [
    "job_queue.mark_finished(index=0)\n",
    "job_queue.mark_error(index=1)\n",
    "\n",
    "job_queue.get_jobs()"
   ]
  },
  {
   "cell_type": "markdown",
   "metadata": {},
   "source": [
    "We can now change our simple script to handle multiprocessing across nodes!"
   ]
  },
  {
   "cell_type": "code",
   "execution_count": 31,
   "metadata": {},
   "outputs": [
    {
     "name": "stderr",
     "output_type": "stream",
     "text": [
      "2023-03-30 22:00:48,562 - Executed program with a=-0.251, b=0.901, c=0.464: \t Result: 261.134\n",
      "2023-03-30 22:00:48,816 - Executed program with a=0.197, b=-0.688, c=-0.688: \t Result: 19.109\n",
      "2023-03-30 22:00:49,102 - Executed program with a=-0.884, b=0.732, c=0.202: \t Result: 321.825\n",
      "2023-03-30 22:00:49,388 - Executed program with a=0.416, b=-0.959, c=0.940: \t Result: 170.930\n",
      "2023-03-30 22:00:49,666 - Executed program with a=0.665, b=-0.575, c=-0.636: \t Result: 79.458\n",
      "2023-03-30 22:00:49,952 - Executed program with a=-0.633, b=-0.392, c=0.050: \t Result: 139.412\n",
      "2023-03-30 22:00:50,230 - Executed program with a=-0.136, b=-0.418, c=0.224: \t Result: 115.536\n",
      "2023-03-30 22:00:50,555 - Executed program with a=-0.721, b=-0.416, c=-0.267: \t Result: 83.109\n",
      "2023-03-30 22:00:50,835 - Executed program with a=-0.088, b=0.570, c=-0.601: \t Result: 215.214\n",
      "2023-03-30 22:00:51,126 - Executed program with a=0.028, b=0.185, c=-0.907: \t Result: 109.803\n"
     ]
    },
    {
     "name": "stdout",
     "output_type": "stream",
     "text": [
      "An unexpected error occurred: The jobfile my_jobs2 does not have any open jobs left!\n"
     ]
    },
    {
     "data": {
      "text/html": [
       "<div>\n",
       "<style scoped>\n",
       "    .dataframe tbody tr th:only-of-type {\n",
       "        vertical-align: middle;\n",
       "    }\n",
       "\n",
       "    .dataframe tbody tr th {\n",
       "        vertical-align: top;\n",
       "    }\n",
       "\n",
       "    .dataframe thead tr th {\n",
       "        text-align: left;\n",
       "    }\n",
       "</style>\n",
       "<table border=\"1\" class=\"dataframe\">\n",
       "  <thead>\n",
       "    <tr>\n",
       "      <th></th>\n",
       "      <th colspan=\"3\" halign=\"left\">input</th>\n",
       "      <th>output</th>\n",
       "    </tr>\n",
       "    <tr>\n",
       "      <th></th>\n",
       "      <th>a</th>\n",
       "      <th>b</th>\n",
       "      <th>c</th>\n",
       "      <th>y</th>\n",
       "    </tr>\n",
       "  </thead>\n",
       "  <tbody>\n",
       "    <tr>\n",
       "      <th>0</th>\n",
       "      <td>-0.250920</td>\n",
       "      <td>0.901429</td>\n",
       "      <td>0.463988</td>\n",
       "      <td>261.134214</td>\n",
       "    </tr>\n",
       "    <tr>\n",
       "      <th>1</th>\n",
       "      <td>0.197317</td>\n",
       "      <td>-0.687963</td>\n",
       "      <td>-0.688011</td>\n",
       "      <td>19.109039</td>\n",
       "    </tr>\n",
       "    <tr>\n",
       "      <th>2</th>\n",
       "      <td>-0.883833</td>\n",
       "      <td>0.732352</td>\n",
       "      <td>0.202230</td>\n",
       "      <td>321.825051</td>\n",
       "    </tr>\n",
       "    <tr>\n",
       "      <th>3</th>\n",
       "      <td>0.416145</td>\n",
       "      <td>-0.958831</td>\n",
       "      <td>0.939820</td>\n",
       "      <td>170.930424</td>\n",
       "    </tr>\n",
       "    <tr>\n",
       "      <th>4</th>\n",
       "      <td>0.664885</td>\n",
       "      <td>-0.575322</td>\n",
       "      <td>-0.636350</td>\n",
       "      <td>79.458296</td>\n",
       "    </tr>\n",
       "    <tr>\n",
       "      <th>5</th>\n",
       "      <td>-0.633191</td>\n",
       "      <td>-0.391516</td>\n",
       "      <td>0.049513</td>\n",
       "      <td>139.411721</td>\n",
       "    </tr>\n",
       "    <tr>\n",
       "      <th>6</th>\n",
       "      <td>-0.136110</td>\n",
       "      <td>-0.417542</td>\n",
       "      <td>0.223706</td>\n",
       "      <td>115.535908</td>\n",
       "    </tr>\n",
       "    <tr>\n",
       "      <th>7</th>\n",
       "      <td>-0.721012</td>\n",
       "      <td>-0.415711</td>\n",
       "      <td>-0.267276</td>\n",
       "      <td>83.109400</td>\n",
       "    </tr>\n",
       "    <tr>\n",
       "      <th>8</th>\n",
       "      <td>-0.087860</td>\n",
       "      <td>0.570352</td>\n",
       "      <td>-0.600652</td>\n",
       "      <td>215.214311</td>\n",
       "    </tr>\n",
       "    <tr>\n",
       "      <th>9</th>\n",
       "      <td>0.028469</td>\n",
       "      <td>0.184829</td>\n",
       "      <td>-0.907099</td>\n",
       "      <td>109.803282</td>\n",
       "    </tr>\n",
       "  </tbody>\n",
       "</table>\n",
       "</div>"
      ],
      "text/plain": [
       "      input                          output\n",
       "          a         b         c           y\n",
       "0 -0.250920  0.901429  0.463988  261.134214\n",
       "1  0.197317 -0.687963 -0.688011   19.109039\n",
       "2 -0.883833  0.732352  0.202230  321.825051\n",
       "3  0.416145 -0.958831  0.939820  170.930424\n",
       "4  0.664885 -0.575322 -0.636350   79.458296\n",
       "5 -0.633191 -0.391516  0.049513  139.411721\n",
       "6 -0.136110 -0.417542  0.223706  115.535908\n",
       "7 -0.721012 -0.415711 -0.267276   83.109400\n",
       "8 -0.087860  0.570352 -0.600652  215.214311\n",
       "9  0.028469  0.184829 -0.907099  109.803282"
      ]
     },
     "execution_count": 31,
     "metadata": {},
     "output_type": "execute_result"
    }
   ],
   "source": [
    "job_queue = f3dasm.experiment.JobQueue(filename='my_jobs2')\n",
    "job_queue.create_jobs_from_experimentdata(data)\n",
    "\n",
    "job_queue.write_new_jobfile()\n",
    "\n",
    "while True:\n",
    "    try:\n",
    "        jobnumber = job_queue.get()\n",
    "    except f3dasm.experiment.NoOpenJobsError:\n",
    "        break\n",
    "    \n",
    "    args = data.get_inputdata_by_index(jobnumber)\n",
    "\n",
    "    value = main_parallel(**data.get_inputdata_by_index(jobnumber))\n",
    "    data.set_outputdata_by_index(jobnumber, value)\n",
    "\n",
    "    job_queue.mark_finished(jobnumber)\n",
    "\n",
    "data.data"
   ]
  },
  {
   "cell_type": "markdown",
   "metadata": {},
   "source": [
    "This process looks like this:"
   ]
  },
  {
   "cell_type": "markdown",
   "metadata": {},
   "source": [
    "<img src=\"jobqueue.png\" alt=\"alt text\" width=\"30%\" height=\"30%\">"
   ]
  },
  {
   "cell_type": "markdown",
   "metadata": {},
   "source": []
  }
 ],
 "metadata": {
  "kernelspec": {
   "display_name": "Python 3 (ipykernel)",
   "language": "python",
   "name": "python3"
  },
  "language_info": {
   "codemirror_mode": {
    "name": "ipython",
    "version": 3
   },
   "file_extension": ".py",
   "mimetype": "text/x-python",
   "name": "python",
   "nbconvert_exporter": "python",
   "pygments_lexer": "ipython3",
   "version": "3.8.15"
  },
  "vscode": {
   "interpreter": {
    "hash": "03276761335d5ee93b82dc97db1addd68180a543fb0cacb8af76ec058b1972b7"
   }
  }
 },
 "nbformat": 4,
 "nbformat_minor": 2
}
