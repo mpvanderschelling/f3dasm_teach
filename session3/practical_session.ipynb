{
 "cells": [
  {
   "cell_type": "markdown",
   "metadata": {},
   "source": [
    "# Practical session demo #3 (solutions)\n",
    "\n",
    "In this session, we are covering the following:\n",
    "* Implement your own sampling strategy\n",
    "* Implement your own optimizer\n",
    "* How to add your implementations to the framework"
   ]
  },
  {
   "cell_type": "markdown",
   "metadata": {},
   "source": [
    "Now we are importing the f3dasm package. If this is not present, install it from the PyPi index"
   ]
  },
  {
   "cell_type": "code",
   "execution_count": 1,
   "metadata": {},
   "outputs": [
    {
     "name": "stderr",
     "output_type": "stream",
     "text": [
      "2022-11-30 14:15:09.149902: I tensorflow/core/platform/cpu_feature_guard.cc:193] This TensorFlow binary is optimized with oneAPI Deep Neural Network Library (oneDNN) to use the following CPU instructions in performance-critical operations:  AVX2 AVX512F AVX512_VNNI FMA\n",
      "To enable them in other operations, rebuild TensorFlow with the appropriate compiler flags.\n",
      "2022-11-30 14:15:09.311174: I tensorflow/core/util/port.cc:104] oneDNN custom operations are on. You may see slightly different numerical results due to floating-point round-off errors from different computation orders. To turn them off, set the environment variable `TF_ENABLE_ONEDNN_OPTS=0`.\n",
      "2022-11-30 14:15:09.938015: W tensorflow/compiler/xla/stream_executor/platform/default/dso_loader.cc:64] Could not load dynamic library 'libnvinfer.so.7'; dlerror: libnvinfer.so.7: cannot open shared object file: No such file or directory; LD_LIBRARY_PATH: /usr/local/cuda-11.1/lib64\n",
      "2022-11-30 14:15:09.938115: W tensorflow/compiler/xla/stream_executor/platform/default/dso_loader.cc:64] Could not load dynamic library 'libnvinfer_plugin.so.7'; dlerror: libnvinfer_plugin.so.7: cannot open shared object file: No such file or directory; LD_LIBRARY_PATH: /usr/local/cuda-11.1/lib64\n",
      "2022-11-30 14:15:09.938122: W tensorflow/compiler/tf2tensorrt/utils/py_utils.cc:38] TF-TRT Warning: Cannot dlopen some TensorRT libraries. If you would like to use Nvidia GPU with TensorRT, please make sure the missing libraries mentioned above are installed properly.\n"
     ]
    }
   ],
   "source": [
    "# If f3dasm is not found, install the correct version from pip\n",
    "try:\n",
    "    import f3dasm\n",
    "except ModuleNotFoundError:\n",
    "    %pip install f3dasm==0.2.8 --quiet\n",
    "    import f3dasm"
   ]
  },
  {
   "cell_type": "markdown",
   "metadata": {},
   "source": [
    "Also, we have to make sure that we have the right version!"
   ]
  },
  {
   "cell_type": "code",
   "execution_count": 2,
   "metadata": {},
   "outputs": [],
   "source": [
    "# Check if you got the right version, otherwise uninstall this version!\n",
    "\n",
    "import os\n",
    "\n",
    "if f3dasm.__version__ != '0.2.8':\n",
    "    %pip uninstall -y f3dasm\n",
    "    os._exit(00)\n",
    "    # The kernel will be restarted and you need to run the notebook again!"
   ]
  },
  {
   "cell_type": "code",
   "execution_count": 3,
   "metadata": {},
   "outputs": [
    {
     "name": "stdout",
     "output_type": "stream",
     "text": [
      "Your f3dasm version is 0.2.8!\n"
     ]
    }
   ],
   "source": [
    "print(f\"Your f3dasm version is {f3dasm.__version__}!\")"
   ]
  },
  {
   "cell_type": "markdown",
   "metadata": {},
   "source": [
    "import some other packages:"
   ]
  },
  {
   "cell_type": "code",
   "execution_count": 4,
   "metadata": {},
   "outputs": [],
   "source": [
    "import numpy as np\n",
    "from dataclasses import dataclass\n",
    "from typing import Tuple\n",
    "import copy"
   ]
  },
  {
   "cell_type": "markdown",
   "metadata": {},
   "source": [
    "We specify a seed:"
   ]
  },
  {
   "cell_type": "code",
   "execution_count": 5,
   "metadata": {},
   "outputs": [],
   "source": [
    "seed = 42"
   ]
  },
  {
   "cell_type": "markdown",
   "metadata": {},
   "source": [
    "# Experiments\n",
    "\n",
    "This folder denotes experiments.\n",
    "\n",
    "## Folder structure and files\n",
    "```\n",
    "├── experiments\n",
    "│   └── my_experiment\n",
    "│       ├── custom_module\n",
    "│       │   ├── custom_script.py\n",
    "│       │   └── __init__.py\n",
    "│       ├── main.py\n",
    "│       ├── config.py\n",
    "│       ├── config.yaml\n",
    "│       ├── default.yaml\n",
    "│       ├── pbsjob.sh\n",
    "│       └── README.md\n",
    "└── src/f3dasm\n",
    "```"
   ]
  },
  {
   "cell_type": "markdown",
   "metadata": {},
   "source": [
    "* Each experiment is put in a separate folder, in this case `my_experiment`\n",
    "* The README.md file gives a description, author and optionally citable source.\n",
    "* The main script that has to be called should be name `main.py`\n",
    "* Additional scripts or modules can be placed inside the `my_experiments` folder.\n",
    "* `pbsjob.sh` is a [`TORQUE`](https://adaptivecomputing.com/cherry-services/torque-resource-manager/) file that will submit the `main.py` file to a high-performance queuing system.\n",
    "* The `config.py`, `config.yaml` and `default.yaml` are [`hydra`](https://hydra.cc/docs/intro/) configuration files. More on that in the next section."
   ]
  },
  {
   "cell_type": "markdown",
   "metadata": {},
   "source": [
    "## Hydra\n",
    "\n",
    "Configurations and data-storage for the experiments is handled by the [`hydra`](https://hydra.cc/docs/intro/) package."
   ]
  },
  {
   "cell_type": "markdown",
   "metadata": {},
   "source": [
    "* `config.py` denotes the types of all of the configurable parameters:\n",
    "\n",
    "```python\n",
    "from dataclasses import dataclass\n",
    "from typing import Any, List\n",
    "\n",
    "@dataclass\n",
    "class SubConfig:\n",
    "    parameter1: float\n",
    "    parameter2: List[str]\n",
    "    parameter3: int\n",
    "\n",
    "@dataclass\n",
    "class Config:\n",
    "    subconfig: SubConfig\n",
    "    parameter4: int\n",
    "```\n",
    "\n",
    "This will help you with type-hinting and write cleaner code."
   ]
  },
  {
   "cell_type": "markdown",
   "metadata": {},
   "source": [
    "* `config.yaml` is a [YAML](https://en.wikipedia.org/wiki/YAML) file containing the values of the configuration parameters:\n",
    "\n",
    "```yaml\n",
    "subconfig:\n",
    "  parameter1: -1.0\n",
    "  parameter2: ['banana','apple', 'pear']\n",
    "\n",
    "parameter4: 3\n",
    "```"
   ]
  },
  {
   "cell_type": "markdown",
   "metadata": {},
   "source": [
    "* `default.yaml` contains the default values if we do not specify them in `config.yaml`, like we did with `parameter3` in the example:\n",
    "\n",
    "```yaml\n",
    "subconfig:\n",
    "  parameter1: 0.0\n",
    "  parameter2: ['fruit1','fruit2', 'fruit3']\n",
    "  parameter3: 0\n",
    "\n",
    "parameter4: 0\n",
    "```"
   ]
  },
  {
   "cell_type": "markdown",
   "metadata": {},
   "source": [
    "* A minimal `main.py` file will look something like this:\n",
    "\n",
    "```python\n",
    "import hydra\n",
    "from config import Config\n",
    "from hydra.core.config_store import ConfigStore\n",
    "\n",
    "import f3dasm\n",
    "\n",
    "@hydra.main(config_path=\".\", config_name=\"config\")\n",
    "def main(cfg: Config):\n",
    "    ...\n",
    "\n",
    "\n",
    "cs = ConfigStore.instance()\n",
    "cs.store(name=\"f3dasm_config\", node=Config)\n",
    "\n",
    "if __name__ == \"__main__\":\n",
    "    main()\n",
    "\n",
    "```"
   ]
  },
  {
   "cell_type": "markdown",
   "metadata": {},
   "source": [
    "The configurations are given in the custom `Config` class type imported from `config.py` as input to the `main(cfg: Config)` function. This is done by the `@hydra.main()` decorater.\n"
   ]
  },
  {
   "cell_type": "markdown",
   "metadata": {},
   "source": [
    "## Executing an experiment\n",
    "\n",
    "Scripts can be run in two ways:\n",
    "\n",
    "* Locally on your computer, by running the `main.py` file: \n",
    "\n",
    "```bash\n",
    "$ python3 main.py\n",
    "```\n",
    "\n",
    "> Make sure you run the file in an environment where `f3dasm` and its dependencies are installed correctly!\n",
    "\n",
    "* On a high-performance computer by submitting the `pbsjob.sh` to the queue:\n",
    "\n",
    "```bash\n",
    "$ qsub pbshjob.sh\n",
    "```\n",
    "\n",
    "> You can create array jobs easily in the commandline with the `-t` flag."
   ]
  },
  {
   "cell_type": "markdown",
   "metadata": {},
   "source": [
    "From the location that you executed/submitted the script, an `/outputs/` folder will be created, if not present.\n",
    "\n",
    "In this `/outputs/` folder, a new folder will be created named:\n",
    "\n",
    "* `/%year-%month-%day/%hour-%minute-%seconds/` locally\n",
    "* `$PBS_JOBID/` on the HPC\n",
    "\n",
    "The output-data, `hydra` configurations (`/.hydra/`) and logfile (`main.log`) will be automatically put in this folder\n",
    "\n",
    "This will look something like this:\n",
    "\n",
    "\n",
    "### Locally\n",
    "```\n",
    "├── outputs\n",
    "    └── 2022-11-30\n",
    "        └── 13-27-47\n",
    "            ├── .hydra\n",
    "            |   ├── config.yaml\n",
    "            |   ├── hydra.yaml\n",
    "            |   └── overrides.yaml\n",
    "            ├── main.log\n",
    "            └── data.obj\n",
    "```\n",
    "\n",
    "### HPC\n",
    "```\n",
    "├── outputs\n",
    "    └── 448990\n",
    "        ├── .hydra\n",
    "        |   ├── config.yaml\n",
    "        |   ├── hydra.yaml\n",
    "        |   └── overrides.yaml\n",
    "        ├── main.log\n",
    "        └── data.obj\n",
    "```"
   ]
  },
  {
   "cell_type": "markdown",
   "metadata": {},
   "source": []
  },
  {
   "cell_type": "markdown",
   "metadata": {},
   "source": [
    "`python3 main.py --config.sampling.sampler=LatinHyperCube`"
   ]
  },
  {
   "cell_type": "markdown",
   "metadata": {},
   "source": []
  }
 ],
 "metadata": {
  "kernelspec": {
   "display_name": "Python 3.7.12 ('f3dasm_env2')",
   "language": "python",
   "name": "python3"
  },
  "language_info": {
   "codemirror_mode": {
    "name": "ipython",
    "version": 3
   },
   "file_extension": ".py",
   "mimetype": "text/x-python",
   "name": "python",
   "nbconvert_exporter": "python",
   "pygments_lexer": "ipython3",
   "version": "3.7.12"
  },
  "orig_nbformat": 4,
  "vscode": {
   "interpreter": {
    "hash": "f45089fc4d6167869e7370c5b47568ce8eb74326038b740d9fc0c36d2e164509"
   }
  }
 },
 "nbformat": 4,
 "nbformat_minor": 2
}
