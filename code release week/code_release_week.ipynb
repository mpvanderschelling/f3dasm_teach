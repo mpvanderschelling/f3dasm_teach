{
 "cells": [
  {
   "cell_type": "markdown",
   "metadata": {},
   "source": [
    "# `f3dasm`: Framework for Data-Driven Design and Analysis of Structures and Materials \n",
    "*April 3rd, 2023* <br>\n",
    "*Code Release Week \\#1*"
   ]
  },
  {
   "cell_type": "markdown",
   "metadata": {},
   "source": [
    "# Table of contents\n",
    "\n",
    "**1. Project introduction**\n",
    "- 1.1 Overview\n",
    "- 1.2 Installation\n",
    "- 1.3 Getting started\n",
    "\n",
    "**2. Demonstration**"
   ]
  },
  {
   "cell_type": "markdown",
   "metadata": {},
   "source": [
    "## 1.1 Overview\n",
    "\n",
    "`f3dasm` is one python package that consists of 8 submodules:"
   ]
  },
  {
   "cell_type": "markdown",
   "metadata": {},
   "source": [
    "**Use `f3dasm` to handle your design of experiments**\n",
    "\n",
    "Modules:\n",
    "- `f3dasm.design`\n",
    "- `f3dasm.experiment`"
   ]
  },
  {
   "cell_type": "markdown",
   "metadata": {},
   "source": [
    "**Use `f3dasm` to compare models**\n",
    "\n",
    "Modules:\n",
    "- `f3dasm.machinelearning`\n",
    "- `f3dasm.optimization`\n",
    "- `f3dasm.sampling`\n"
   ]
  },
  {
   "cell_type": "markdown",
   "metadata": {},
   "source": [
    "**Use `f3dasm` to generate data**\n",
    "\n",
    "Modules:\n",
    "- `f3dasm.functions`\n",
    "- `f3dasm.data`\n",
    "- `f3dasm.simulation`\n"
   ]
  },
  {
   "cell_type": "markdown",
   "metadata": {},
   "source": [
    "## 1.2 Installation"
   ]
  },
  {
   "cell_type": "markdown",
   "metadata": {},
   "source": [
    "### System requirements\n",
    "`f3dasm` is purely Python code and compatible with:\n",
    "1. Python 3.7 to 3.10.\n",
    "2. the three major operations system (Linux, MacOS, Ubuntu).\n",
    "3. the default environment of Google Colab (Python 3.8, Linux) \n",
    "4. the `pip` package manager system.\n",
    "\n",
    "Installation instruction can be found in the documentation page under [Getting Started](https://bessagroup.github.io/F3DASM/gettingstarted.html)"
   ]
  },
  {
   "cell_type": "markdown",
   "metadata": {},
   "source": [
    "We install the full version of `f3dasm`:"
   ]
  },
  {
   "cell_type": "code",
   "execution_count": 1,
   "metadata": {},
   "outputs": [
    {
     "name": "stdout",
     "output_type": "stream",
     "text": [
      "Collecting omegaconf==1.4.0\n",
      "  Using cached omegaconf-1.4.0-py3-none-any.whl (14 kB)\n",
      "Requirement already satisfied: six in /home/martin/miniconda3/envs/f3dasm_env3/lib/python3.8/site-packages (from omegaconf==1.4.0) (1.16.0)\n",
      "Requirement already satisfied: PyYAML in /home/martin/miniconda3/envs/f3dasm_env3/lib/python3.8/site-packages (from omegaconf==1.4.0) (6.0)\n",
      "Installing collected packages: omegaconf\n",
      "  Attempting uninstall: omegaconf\n",
      "    Found existing installation: omegaconf 2.3.0\n",
      "    Uninstalling omegaconf-2.3.0:\n",
      "      Successfully uninstalled omegaconf-2.3.0\n",
      "\u001b[31mERROR: pip's dependency resolver does not currently take into account all the packages that are installed. This behaviour is the source of the following dependency conflicts.\n",
      "hydra-core 1.2.0 requires omegaconf~=2.2, but you have omegaconf 1.4.0 which is incompatible.\u001b[0m\u001b[31m\n",
      "\u001b[0mSuccessfully installed omegaconf-1.4.0\n"
     ]
    },
    {
     "name": "stderr",
     "output_type": "stream",
     "text": [
      "2023-03-31 15:39:54,161 - Imported f3dasm (version: 0.9.2)\n"
     ]
    },
    {
     "name": "stdout",
     "output_type": "stream",
     "text": [
      "Note: you may need to restart the kernel to use updated packages.\n"
     ]
    },
    {
     "name": "stderr",
     "output_type": "stream",
     "text": [
      "2023-03-31 15:39:55.028888: I tensorflow/core/platform/cpu_feature_guard.cc:193] This TensorFlow binary is optimized with oneAPI Deep Neural Network Library (oneDNN) to use the following CPU instructions in performance-critical operations:  AVX2 AVX512F AVX512_VNNI FMA\n",
      "To enable them in other operations, rebuild TensorFlow with the appropriate compiler flags.\n",
      "2023-03-31 15:39:55.209452: I tensorflow/core/util/port.cc:104] oneDNN custom operations are on. You may see slightly different numerical results due to floating-point round-off errors from different computation orders. To turn them off, set the environment variable `TF_ENABLE_ONEDNN_OPTS=0`.\n",
      "2023-03-31 15:39:55.901758: W tensorflow/compiler/xla/stream_executor/platform/default/dso_loader.cc:64] Could not load dynamic library 'libnvinfer.so.7'; dlerror: libnvinfer.so.7: cannot open shared object file: No such file or directory; LD_LIBRARY_PATH: /usr/local/cuda-11.1/lib64:/usr/local/cuda-11.1/lib64\n",
      "2023-03-31 15:39:55.901827: W tensorflow/compiler/xla/stream_executor/platform/default/dso_loader.cc:64] Could not load dynamic library 'libnvinfer_plugin.so.7'; dlerror: libnvinfer_plugin.so.7: cannot open shared object file: No such file or directory; LD_LIBRARY_PATH: /usr/local/cuda-11.1/lib64:/usr/local/cuda-11.1/lib64\n",
      "2023-03-31 15:39:55.901834: W tensorflow/compiler/tf2tensorrt/utils/py_utils.cc:38] TF-TRT Warning: Cannot dlopen some TensorRT libraries. If you would like to use Nvidia GPU with TensorRT, please make sure the missing libraries mentioned above are installed properly.\n"
     ]
    }
   ],
   "source": [
    "# Weird hot-fix only for Google Colab\n",
    "%pip install omegaconf==1.4.0\n",
    "\n",
    "try:\n",
    "    import f3dasm\n",
    "except ModuleNotFoundError:\n",
    "    %pip install -i https://test.pypi.org/simple/ f3dasm==0.9.2\n",
    "    import f3dasm"
   ]
  },
  {
   "cell_type": "markdown",
   "metadata": {},
   "source": [
    "You can view the version and it's dependencies:"
   ]
  },
  {
   "cell_type": "code",
   "execution_count": 2,
   "metadata": {},
   "outputs": [
    {
     "name": "stdout",
     "output_type": "stream",
     "text": [
      "\n",
      "f3dasm:\n",
      "        0.9.2\n",
      "\n",
      "System:\n",
      "    python: 3.8.15 | packaged by conda-forge | (default, Nov 22 2022, 08:49:35)  [GCC 10.4.0]\n",
      "executable: /home/martin/miniconda3/envs/f3dasm_env3/bin/python\n",
      "   machine: Linux-5.14.0-1059-oem-x86_64-with-glibc2.10\n",
      "\n",
      "Core package dependencies:\n",
      "        numpy: 1.23.5\n",
      "        scipy: 1.9.3\n",
      "       pandas: 1.5.2\n",
      "   matplotlib: 3.6.2\n",
      "       pathos: 0.3.0\n",
      "        hydra: None\n",
      "     autograd: unknown\n",
      "\n",
      "Machine learning extension:\n",
      "   tensorflow: 2.11.0\n",
      "\n",
      "Optimization extension:\n",
      "       GPyOpt: 1.2.6\n",
      "          GPy: 1.10.0\n",
      "   tensorflow: 2.11.0\n",
      "        pygmo: 2.19.0\n",
      "\n",
      "Sampling extension:\n",
      "        SALib: 1.4.7\n"
     ]
    }
   ],
   "source": [
    "f3dasm.show_versions()"
   ]
  },
  {
   "cell_type": "markdown",
   "metadata": {},
   "source": [
    "#### Distinction between python package and repository\n",
    "- The Python  PyPI package (`pip install f3dasm`) contains the code that is used when installing the package as a **user**. It contains only the `main` branch version.\n",
    "- The GitHub repository is mainly for **developers** and besides the package includes:\n",
    "  - Studies (more on that later)\n",
    "  - Test suite\n",
    "  - Documentation source\n",
    "  - Tutorial notebooks"
   ]
  },
  {
   "cell_type": "markdown",
   "metadata": {},
   "source": [
    "##  1.3 Getting started\n",
    "\n",
    "The package contains a lot of implementation for each of the blocks. However, the installation `f3dasm` is modular: you decide what you want to use or not.\n",
    "\n",
    "We can distinguish 3 ways of using `f3dasm`:"
   ]
  },
  {
   "cell_type": "markdown",
   "metadata": {},
   "source": [
    "#### 1. Using `f3dasm` to handle your design of experiments\n",
    "*Have your own functions and modules and coat them in a `f3dasm` sauce to manage and scale-up your experiments!*\n",
    "\n",
    "The **core** package: contains the minimal installation to use `f3dasm` without extended features. \n",
    "Installed with `pip install f3dasm`\n",
    "\n",
    "The core package contains the following features:\n",
    "1. provide a way to parametrize your experiment with the **design-of-experiments** classes.\n",
    "2. provide the option to investigate their experiment by **sampling** and **optimizing** their design.\n",
    "3. provide the user guidance in **parallelizing** their program and ordering their data.\n",
    "4. give the user ways of deploying their **experiment** at the HPC (TORQUE system)\n",
    "\n",
    "The core package requires the following dependencies:\n",
    "- `numpy` and `scipy`: for numerical operations\n",
    "- `pandas`: for the representation of the design of experiments\n",
    "- `matplotlib`: for plotting\n",
    "- `hydra-core`: for deploying your experiment \n",
    "- `pathos`: for multiprocessing\n",
    "- `autograd`: for computing gradients"
   ]
  },
  {
   "cell_type": "markdown",
   "metadata": {},
   "source": [
    "#### 2. Using `f3dasm` to benchmark or compare models\n",
    "*Go fully `f3dasm`: use existing implementations to benchmark parts of the data-driven machine learning process!*\n",
    "\n",
    "You can solely use the core package, but it is advised to enrich `f3dasm` with its **extensions** \n",
    "\n",
    "The extensions contain the following features:\n",
    "1. provide various **implementations** to accommodate common machine learning workflows.\n",
    "2. provide **adapter** classes that link common machine learning libraries to `f3dasm` base classes. \n",
    "\n",
    "\n",
    "For each of the blocks, extensions can be installed to extend the choice of implementations. Installed with `pip install f3dasm[<name of extension>]`\n",
    "\n",
    "The following extensions are available:\n",
    "- **machinelearning**: containing various `tensorflow` related models\n",
    "- **sampling**: containing sampling strategies from `SALib`\n",
    "- **optimization**: containing various optimizers from `GPyOpt`, `pygmo` and `tensorflow`\n"
   ]
  },
  {
   "cell_type": "markdown",
   "metadata": {},
   "source": [
    "#### 3. Develop on `f3dasm`\n",
    "*Work hard, play hard: work towards making your implementations an official `f3dasm` extension!*\n",
    "\n",
    "If you want your implementation to be part of the `f3dasm` package, you can develop an adapter and/or implementation for `f3dasm`\n",
    "\n",
    "The **developement** package: contains the full installation plus requirements for developing on `f3dasm`. \n",
    "Installed with `pip install f3dasm[dev]`\n",
    "\n",
    "Information on how to contribute to `f3dasm` can be found [on the wiki page of the GitHub repository](https://github.com/bessagroup/F3DASM/wiki)!"
   ]
  },
  {
   "cell_type": "markdown",
   "metadata": {},
   "source": [
    "## 2. Demonstration"
   ]
  },
  {
   "cell_type": "markdown",
   "metadata": {},
   "source": [
    "In the past practical sessions, I have shown you how to use `f3dasm` to benchmark various parts of a data-driven machine learning process (**use-case #2**).\n",
    "\n",
    "Today I will show you how to use `f3dasm` to streamline your own data-driven process (**use-case #1**)"
   ]
  },
  {
   "cell_type": "markdown",
   "metadata": {},
   "source": [
    "Import some other packages and set a seed"
   ]
  },
  {
   "cell_type": "code",
   "execution_count": 3,
   "metadata": {},
   "outputs": [],
   "source": [
    "import numpy as np\n",
    "import logging\n",
    "from pathos.helpers import mp  # For multiprocessing!\n",
    "import time # For ... timing!\n",
    "\n",
    "SEED = 42\n",
    "np.random.seed(SEED)"
   ]
  },
  {
   "cell_type": "markdown",
   "metadata": {},
   "source": [
    "### Example: Set up your program with f3dasm\n",
    "\n",
    "Let's say we have a program that we want to execute. It is important that this could be **anything**. Like:\n",
    "- Calculate the loss of some compliance curve in topology optimization\n",
    "- Computing the mean stress and strain from some abaqus simulation\n",
    "- Benchmarking various regressors in a multi-fidelity setting"
   ]
  },
  {
   "cell_type": "markdown",
   "metadata": {},
   "source": [
    "At the top level of your experiment, you will probably have a main function that accepts some arguments and returns the quantity of interest.\n",
    "\n",
    "Let's create such a function, just for demonstration purposes."
   ]
  },
  {
   "cell_type": "code",
   "execution_count": 4,
   "metadata": {},
   "outputs": [],
   "source": [
    "def main(a: float, b: float, c: float) -> float:    \n",
    "    functions = [f3dasm.functions.Rastrigin, f3dasm.functions.Levy, f3dasm.functions.Ackley]\n",
    "    y = []\n",
    "    for func in functions:\n",
    "        f = func(dimensionality=3, scale_bounds=np.tile([-1.,1.], (3,1)), seed=SEED)\n",
    "        time.sleep(.1)\n",
    "        y.append(f(np.array([a,b,c])).ravel()[0])\n",
    "\n",
    "    # Sum the values\n",
    "    out = sum(y)\n",
    "    logging.info(f\"Executed program with a={a:.3f}, b={b:.3f}, c={c:.3f}: \\t Result {out:.3f}\")\n",
    "    return out"
   ]
  },
  {
   "cell_type": "markdown",
   "metadata": {},
   "source": [
    "What are we seeing:\n",
    "- The program requires three floating points and returns a float as well.\n",
    "- It creates three 3D-benchmark functions, evaluates them sequentially and sums the results\n",
    "- We simulate some computational cost (0.1 seconds per evaluation) by calling the `time.sleep()` method\n",
    "- We write to a log\n",
    "\n",
    "> Note: `my_own_program` uses the integrated benchmark functions from `f3dasm`, but this could very well be one of your codes without any dependency on `f3dasm`."
   ]
  },
  {
   "cell_type": "markdown",
   "metadata": {},
   "source": [
    "Executing multiple experiments is easy:"
   ]
  },
  {
   "cell_type": "code",
   "execution_count": 5,
   "metadata": {},
   "outputs": [
    {
     "name": "stderr",
     "output_type": "stream",
     "text": [
      "2023-03-31 15:39:57,517 - Executed program with a=0.375, b=0.951, c=0.732: \t Result 74.525\n",
      "2023-03-31 15:39:57,822 - Executed program with a=0.599, b=0.156, c=0.156: \t Result 184.928\n",
      "2023-03-31 15:39:58,127 - Executed program with a=0.058, b=0.866, c=0.601: \t Result 58.301\n",
      "2023-03-31 15:39:58,431 - Executed program with a=0.708, b=0.021, c=0.970: \t Result 168.786\n",
      "2023-03-31 15:39:58,736 - Executed program with a=0.832, b=0.212, c=0.182: \t Result 165.645\n",
      "2023-03-31 15:39:59,041 - Executed program with a=0.183, b=0.304, c=0.525: \t Result 77.913\n",
      "2023-03-31 15:39:59,346 - Executed program with a=0.432, b=0.291, c=0.612: \t Result 90.612\n",
      "2023-03-31 15:39:59,651 - Executed program with a=0.139, b=0.292, c=0.366: \t Result 74.271\n",
      "2023-03-31 15:39:59,957 - Executed program with a=0.456, b=0.785, c=0.200: \t Result 94.007\n",
      "2023-03-31 15:40:00,262 - Executed program with a=0.514, b=0.592, c=0.046: \t Result 94.061\n"
     ]
    },
    {
     "name": "stdout",
     "output_type": "stream",
     "text": [
      "It took 3.04979 seconds to execute this for loop\n"
     ]
    }
   ],
   "source": [
    "inputs = np.random.uniform(size=(10,3))\n",
    "\n",
    "start_time = time.time()\n",
    "outputs = np.array([main(*input_vals) for input_vals in inputs])\n",
    "time_not_parallel = time.time() - start_time\n",
    "\n",
    "print(f\"It took {time_not_parallel:.5f} seconds to execute this for loop\")"
   ]
  },
  {
   "cell_type": "markdown",
   "metadata": {},
   "source": [
    "We can save the values of `outputs` for later use"
   ]
  },
  {
   "cell_type": "markdown",
   "metadata": {},
   "source": [
    "This process (`main.py`) can be described with the following figure:"
   ]
  },
  {
   "cell_type": "markdown",
   "metadata": {},
   "source": [
    "<img src=\"img/sequential.png\" alt=\"alt text\" width=\"30%\" height=\"30%\">"
   ]
  },
  {
   "cell_type": "markdown",
   "metadata": {},
   "source": [
    "### Local parallelization\n",
    "\n",
    "If you are familiar with [multiprocessing](https://docs.python.org/3/library/multiprocessing.html), you might already know that we can speed-up this function by parellizing the internal for loop:\n",
    "\n",
    "We create a multiprocessing pool (`mp.Pool()`) where we map the functions to cores in our machine:"
   ]
  },
  {
   "cell_type": "code",
   "execution_count": 6,
   "metadata": {},
   "outputs": [],
   "source": [
    "def main_parallel(a: float, b: float, c: float) -> float:\n",
    "    def evaluate_function(func, a, b, c):\n",
    "        f = func(dimensionality=3, scale_bounds=np.tile([-1.,1.], (3,1)))\n",
    "        y = f(np.array([a,b,c])).ravel()[0]\n",
    "        time.sleep(.1)\n",
    "        return y\n",
    "\n",
    "    functions = [f3dasm.functions.Rastrigin, f3dasm.functions.Levy, f3dasm.functions.Ackley]\n",
    "    with mp.Pool() as pool:\n",
    "        y = pool.starmap(evaluate_function, [(func, a, b, c) for func in functions])\n",
    "\n",
    "    # Sum the values\n",
    "    out = sum(y)\n",
    "\n",
    "    logging.info(f\"Executed program with a={a:.3f}, b={b:.3f}, c={c:.3f}: \\t Result: {out:.3f}\")\n",
    "    return out"
   ]
  },
  {
   "cell_type": "markdown",
   "metadata": {},
   "source": [
    "Executing this function will speed up the process"
   ]
  },
  {
   "cell_type": "code",
   "execution_count": 7,
   "metadata": {},
   "outputs": [
    {
     "name": "stderr",
     "output_type": "stream",
     "text": [
      "2023-03-31 15:40:00,634 - Executed program with a=0.599, b=0.156, c=0.156: \t Result: 125.903\n",
      "2023-03-31 15:40:00,883 - Executed program with a=0.058, b=0.866, c=0.601: \t Result: 91.501\n",
      "2023-03-31 15:40:01,136 - Executed program with a=0.708, b=0.021, c=0.970: \t Result: 77.984\n",
      "2023-03-31 15:40:01,367 - Executed program with a=0.832, b=0.212, c=0.182: \t Result: 114.672\n",
      "2023-03-31 15:40:01,616 - Executed program with a=0.183, b=0.304, c=0.525: \t Result: 138.112\n",
      "2023-03-31 15:40:01,866 - Executed program with a=0.432, b=0.291, c=0.612: \t Result: 88.281\n",
      "2023-03-31 15:40:02,103 - Executed program with a=0.139, b=0.292, c=0.366: \t Result: 129.742\n",
      "2023-03-31 15:40:02,298 - Executed program with a=0.456, b=0.785, c=0.200: \t Result: 62.062\n",
      "2023-03-31 15:40:02,515 - Executed program with a=0.514, b=0.592, c=0.046: \t Result: 67.328\n",
      "2023-03-31 15:40:02,759 - Executed program with a=0.608, b=0.171, c=0.065: \t Result: 119.909\n"
     ]
    },
    {
     "name": "stdout",
     "output_type": "stream",
     "text": [
      "It took 2.33144 seconds to execute this for loop\n",
      "We are 0.71835 seconds faster by parellelization!\n"
     ]
    }
   ],
   "source": [
    "inputs = np.random.uniform(size=(10,3))\n",
    "\n",
    "start_time = time.time()\n",
    "outputs = np.array([main_parallel(*input_vals) for input_vals in inputs])\n",
    "time_parallel = time.time() - start_time\n",
    "\n",
    "print(f\"It took {time_parallel:.5f} seconds to execute this for loop\")\n",
    "print(f\"We are {time_not_parallel-time_parallel:.5f} seconds faster by parellelization!\")"
   ]
  },
  {
   "cell_type": "markdown",
   "metadata": {},
   "source": [
    "This process (`main_parallel.py`) can be described with the following figure:"
   ]
  },
  {
   "cell_type": "markdown",
   "metadata": {},
   "source": [
    "<img src=\"img/parallel.png\" alt=\"alt text\" width=\"30%\" height=\"30%\">"
   ]
  },
  {
   "cell_type": "markdown",
   "metadata": {},
   "source": [
    "### Scale-up: challenges\n",
    "\n",
    "Now we would like to really scale things up. \n",
    "\n",
    "Q) What challenges lie along the way?"
   ]
  },
  {
   "cell_type": "markdown",
   "metadata": {},
   "source": [
    "I asked ChatGPT:"
   ]
  },
  {
   "cell_type": "markdown",
   "metadata": {},
   "source": [
    "- **1. Experiment design and analysis**: As the complexity of the experiment increases, it becomes more difficult to design experiments that are robust and reproducible, and to analyze the results in a meaningful way. This can lead to issues with experimental design, parameter tuning, and statistical analysis.\n",
    "\n",
    "- **2. Parallelization**: As experiments become larger, it may be necessary to parallelize or distribute the computations across multiple machines or nodes in order to reduce the overall runtime. This introduces additional challenges such as synchronization between distributed processes.\n",
    "\n",
    "- **3. Managing data**: As the volume of data generated by an experiment increases, it becomes more difficult to manage and store that data. This can lead to issues with data corruption, loss, or inconsistency."
   ]
  },
  {
   "cell_type": "markdown",
   "metadata": {},
   "source": [
    "This is where `f3dasm` is a helping hand!"
   ]
  },
  {
   "cell_type": "markdown",
   "metadata": {},
   "source": [
    "#### 1. Experiment design and analysis\n",
    "\n",
    "We can create a `f3dasm.DesignSpace` to capture the variables of interest:\n",
    "- A `f3dasm.DesignSpace` consists of an input and output list of `f3dasm.Parameter` objects"
   ]
  },
  {
   "cell_type": "code",
   "execution_count": 8,
   "metadata": {},
   "outputs": [],
   "source": [
    "param_a = f3dasm.ContinuousParameter(name='a', lower_bound=-1., upper_bound=1.)\n",
    "param_b = f3dasm.ContinuousParameter(name='b', lower_bound=-1., upper_bound=1.)\n",
    "param_c = f3dasm.ContinuousParameter(name='c', lower_bound=-1., upper_bound=1.)\n",
    "param_out = f3dasm.ContinuousParameter(name='y')\n",
    "\n",
    "design = f3dasm.DesignSpace(input_space=[param_a, param_b, param_c], output_space=[param_out])"
   ]
  },
  {
   "cell_type": "markdown",
   "metadata": {},
   "source": [
    "We can create an object to store the experiments: `f3dasm.ExperimentData`, but we can also **sample from this designspace**\n",
    "We do that with the `f3dasm.sampling` submodule:\n",
    "\n",
    "> Note that this submodule offers an extension (`f3dasm[sampling]`) that include sampling strategies from `SALib` "
   ]
  },
  {
   "cell_type": "code",
   "execution_count": 9,
   "metadata": {},
   "outputs": [],
   "source": [
    "# Create the sampler object\n",
    "sampler = f3dasm.sampling.RandomUniform(design=design, seed=SEED)\n",
    "\n",
    "data: f3dasm.ExperimentData = sampler.get_samples(numsamples=10)"
   ]
  },
  {
   "cell_type": "markdown",
   "metadata": {},
   "source": [
    "The data object is under the hood a pandas dataframe:"
   ]
  },
  {
   "cell_type": "code",
   "execution_count": 10,
   "metadata": {},
   "outputs": [
    {
     "data": {
      "text/html": [
       "<div>\n",
       "<style scoped>\n",
       "    .dataframe tbody tr th:only-of-type {\n",
       "        vertical-align: middle;\n",
       "    }\n",
       "\n",
       "    .dataframe tbody tr th {\n",
       "        vertical-align: top;\n",
       "    }\n",
       "\n",
       "    .dataframe thead tr th {\n",
       "        text-align: left;\n",
       "    }\n",
       "</style>\n",
       "<table border=\"1\" class=\"dataframe\">\n",
       "  <thead>\n",
       "    <tr>\n",
       "      <th></th>\n",
       "      <th colspan=\"3\" halign=\"left\">input</th>\n",
       "      <th>output</th>\n",
       "    </tr>\n",
       "    <tr>\n",
       "      <th></th>\n",
       "      <th>a</th>\n",
       "      <th>b</th>\n",
       "      <th>c</th>\n",
       "      <th>y</th>\n",
       "    </tr>\n",
       "  </thead>\n",
       "  <tbody>\n",
       "    <tr>\n",
       "      <th>0</th>\n",
       "      <td>-0.250920</td>\n",
       "      <td>0.901429</td>\n",
       "      <td>0.463988</td>\n",
       "      <td>NaN</td>\n",
       "    </tr>\n",
       "    <tr>\n",
       "      <th>1</th>\n",
       "      <td>0.197317</td>\n",
       "      <td>-0.687963</td>\n",
       "      <td>-0.688011</td>\n",
       "      <td>NaN</td>\n",
       "    </tr>\n",
       "    <tr>\n",
       "      <th>2</th>\n",
       "      <td>-0.883833</td>\n",
       "      <td>0.732352</td>\n",
       "      <td>0.202230</td>\n",
       "      <td>NaN</td>\n",
       "    </tr>\n",
       "    <tr>\n",
       "      <th>3</th>\n",
       "      <td>0.416145</td>\n",
       "      <td>-0.958831</td>\n",
       "      <td>0.939820</td>\n",
       "      <td>NaN</td>\n",
       "    </tr>\n",
       "    <tr>\n",
       "      <th>4</th>\n",
       "      <td>0.664885</td>\n",
       "      <td>-0.575322</td>\n",
       "      <td>-0.636350</td>\n",
       "      <td>NaN</td>\n",
       "    </tr>\n",
       "    <tr>\n",
       "      <th>5</th>\n",
       "      <td>-0.633191</td>\n",
       "      <td>-0.391516</td>\n",
       "      <td>0.049513</td>\n",
       "      <td>NaN</td>\n",
       "    </tr>\n",
       "    <tr>\n",
       "      <th>6</th>\n",
       "      <td>-0.136110</td>\n",
       "      <td>-0.417542</td>\n",
       "      <td>0.223706</td>\n",
       "      <td>NaN</td>\n",
       "    </tr>\n",
       "    <tr>\n",
       "      <th>7</th>\n",
       "      <td>-0.721012</td>\n",
       "      <td>-0.415711</td>\n",
       "      <td>-0.267276</td>\n",
       "      <td>NaN</td>\n",
       "    </tr>\n",
       "    <tr>\n",
       "      <th>8</th>\n",
       "      <td>-0.087860</td>\n",
       "      <td>0.570352</td>\n",
       "      <td>-0.600652</td>\n",
       "      <td>NaN</td>\n",
       "    </tr>\n",
       "    <tr>\n",
       "      <th>9</th>\n",
       "      <td>0.028469</td>\n",
       "      <td>0.184829</td>\n",
       "      <td>-0.907099</td>\n",
       "      <td>NaN</td>\n",
       "    </tr>\n",
       "  </tbody>\n",
       "</table>\n",
       "</div>"
      ],
      "text/plain": [
       "      input                     output\n",
       "          a         b         c      y\n",
       "0 -0.250920  0.901429  0.463988    NaN\n",
       "1  0.197317 -0.687963 -0.688011    NaN\n",
       "2 -0.883833  0.732352  0.202230    NaN\n",
       "3  0.416145 -0.958831  0.939820    NaN\n",
       "4  0.664885 -0.575322 -0.636350    NaN\n",
       "5 -0.633191 -0.391516  0.049513    NaN\n",
       "6 -0.136110 -0.417542  0.223706    NaN\n",
       "7 -0.721012 -0.415711 -0.267276    NaN\n",
       "8 -0.087860  0.570352 -0.600652    NaN\n",
       "9  0.028469  0.184829 -0.907099    NaN"
      ]
     },
     "execution_count": 10,
     "metadata": {},
     "output_type": "execute_result"
    }
   ],
   "source": [
    "data.data"
   ]
  },
  {
   "cell_type": "markdown",
   "metadata": {},
   "source": [
    "The `y` values are NaN because we haven't evaluate our experiment yet! Let's do that:"
   ]
  },
  {
   "cell_type": "markdown",
   "metadata": {},
   "source": [
    "Handy: we can retrieve the input columns of a specific row as a dictionary"
   ]
  },
  {
   "cell_type": "code",
   "execution_count": 11,
   "metadata": {},
   "outputs": [
    {
     "data": {
      "text/plain": [
       "{'a': 0.416145155592091, 'b': -0.9588310114083951, 'c': 0.9398197043239886}"
      ]
     },
     "execution_count": 11,
     "metadata": {},
     "output_type": "execute_result"
    }
   ],
   "source": [
    "data.get_inputdata_by_index(index=3)"
   ]
  },
  {
   "cell_type": "markdown",
   "metadata": {},
   "source": [
    "Unpacking the values as arguments of our experiment creates the same results:"
   ]
  },
  {
   "cell_type": "code",
   "execution_count": 12,
   "metadata": {},
   "outputs": [
    {
     "name": "stderr",
     "output_type": "stream",
     "text": [
      "2023-03-31 15:40:03,408 - Executed program with a=-0.251, b=0.901, c=0.464: \t Result: 261.134\n",
      "2023-03-31 15:40:03,660 - Executed program with a=0.197, b=-0.688, c=-0.688: \t Result: 19.109\n",
      "2023-03-31 15:40:03,915 - Executed program with a=-0.884, b=0.732, c=0.202: \t Result: 321.825\n",
      "2023-03-31 15:40:04,119 - Executed program with a=0.416, b=-0.959, c=0.940: \t Result: 170.930\n",
      "2023-03-31 15:40:04,361 - Executed program with a=0.665, b=-0.575, c=-0.636: \t Result: 79.458\n",
      "2023-03-31 15:40:04,626 - Executed program with a=-0.633, b=-0.392, c=0.050: \t Result: 139.412\n",
      "2023-03-31 15:40:04,865 - Executed program with a=-0.136, b=-0.418, c=0.224: \t Result: 115.536\n",
      "2023-03-31 15:40:05,092 - Executed program with a=-0.721, b=-0.416, c=-0.267: \t Result: 83.109\n",
      "2023-03-31 15:40:05,299 - Executed program with a=-0.088, b=0.570, c=-0.601: \t Result: 215.214\n",
      "2023-03-31 15:40:05,550 - Executed program with a=0.028, b=0.185, c=-0.907: \t Result: 109.803\n"
     ]
    }
   ],
   "source": [
    "for index in range(data.get_number_of_datapoints()):\n",
    "    value = main_parallel(**data.get_inputdata_by_index(index))\n",
    "    data.set_outputdata_by_index(index, value)"
   ]
  },
  {
   "cell_type": "markdown",
   "metadata": {},
   "source": [
    "Now our data-object is filled"
   ]
  },
  {
   "cell_type": "code",
   "execution_count": 13,
   "metadata": {},
   "outputs": [
    {
     "data": {
      "text/html": [
       "<div>\n",
       "<style scoped>\n",
       "    .dataframe tbody tr th:only-of-type {\n",
       "        vertical-align: middle;\n",
       "    }\n",
       "\n",
       "    .dataframe tbody tr th {\n",
       "        vertical-align: top;\n",
       "    }\n",
       "\n",
       "    .dataframe thead tr th {\n",
       "        text-align: left;\n",
       "    }\n",
       "</style>\n",
       "<table border=\"1\" class=\"dataframe\">\n",
       "  <thead>\n",
       "    <tr>\n",
       "      <th></th>\n",
       "      <th colspan=\"3\" halign=\"left\">input</th>\n",
       "      <th>output</th>\n",
       "    </tr>\n",
       "    <tr>\n",
       "      <th></th>\n",
       "      <th>a</th>\n",
       "      <th>b</th>\n",
       "      <th>c</th>\n",
       "      <th>y</th>\n",
       "    </tr>\n",
       "  </thead>\n",
       "  <tbody>\n",
       "    <tr>\n",
       "      <th>0</th>\n",
       "      <td>-0.250920</td>\n",
       "      <td>0.901429</td>\n",
       "      <td>0.463988</td>\n",
       "      <td>261.134214</td>\n",
       "    </tr>\n",
       "    <tr>\n",
       "      <th>1</th>\n",
       "      <td>0.197317</td>\n",
       "      <td>-0.687963</td>\n",
       "      <td>-0.688011</td>\n",
       "      <td>19.109039</td>\n",
       "    </tr>\n",
       "    <tr>\n",
       "      <th>2</th>\n",
       "      <td>-0.883833</td>\n",
       "      <td>0.732352</td>\n",
       "      <td>0.202230</td>\n",
       "      <td>321.825051</td>\n",
       "    </tr>\n",
       "    <tr>\n",
       "      <th>3</th>\n",
       "      <td>0.416145</td>\n",
       "      <td>-0.958831</td>\n",
       "      <td>0.939820</td>\n",
       "      <td>170.930424</td>\n",
       "    </tr>\n",
       "    <tr>\n",
       "      <th>4</th>\n",
       "      <td>0.664885</td>\n",
       "      <td>-0.575322</td>\n",
       "      <td>-0.636350</td>\n",
       "      <td>79.458296</td>\n",
       "    </tr>\n",
       "    <tr>\n",
       "      <th>5</th>\n",
       "      <td>-0.633191</td>\n",
       "      <td>-0.391516</td>\n",
       "      <td>0.049513</td>\n",
       "      <td>139.411721</td>\n",
       "    </tr>\n",
       "    <tr>\n",
       "      <th>6</th>\n",
       "      <td>-0.136110</td>\n",
       "      <td>-0.417542</td>\n",
       "      <td>0.223706</td>\n",
       "      <td>115.535908</td>\n",
       "    </tr>\n",
       "    <tr>\n",
       "      <th>7</th>\n",
       "      <td>-0.721012</td>\n",
       "      <td>-0.415711</td>\n",
       "      <td>-0.267276</td>\n",
       "      <td>83.109400</td>\n",
       "    </tr>\n",
       "    <tr>\n",
       "      <th>8</th>\n",
       "      <td>-0.087860</td>\n",
       "      <td>0.570352</td>\n",
       "      <td>-0.600652</td>\n",
       "      <td>215.214311</td>\n",
       "    </tr>\n",
       "    <tr>\n",
       "      <th>9</th>\n",
       "      <td>0.028469</td>\n",
       "      <td>0.184829</td>\n",
       "      <td>-0.907099</td>\n",
       "      <td>109.803282</td>\n",
       "    </tr>\n",
       "  </tbody>\n",
       "</table>\n",
       "</div>"
      ],
      "text/plain": [
       "      input                          output\n",
       "          a         b         c           y\n",
       "0 -0.250920  0.901429  0.463988  261.134214\n",
       "1  0.197317 -0.687963 -0.688011   19.109039\n",
       "2 -0.883833  0.732352  0.202230  321.825051\n",
       "3  0.416145 -0.958831  0.939820  170.930424\n",
       "4  0.664885 -0.575322 -0.636350   79.458296\n",
       "5 -0.633191 -0.391516  0.049513  139.411721\n",
       "6 -0.136110 -0.417542  0.223706  115.535908\n",
       "7 -0.721012 -0.415711 -0.267276   83.109400\n",
       "8 -0.087860  0.570352 -0.600652  215.214311\n",
       "9  0.028469  0.184829 -0.907099  109.803282"
      ]
     },
     "execution_count": 13,
     "metadata": {},
     "output_type": "execute_result"
    }
   ],
   "source": [
    "data.data"
   ]
  },
  {
   "cell_type": "markdown",
   "metadata": {},
   "source": [
    "This process can be described with the following figure:"
   ]
  },
  {
   "cell_type": "markdown",
   "metadata": {},
   "source": [
    "<img src=\"img/single_node.png\" alt=\"alt text\" width=\"50%\" height=\"50%\">"
   ]
  },
  {
   "cell_type": "markdown",
   "metadata": {},
   "source": [
    "`f3dasm` can handle the experiment distribution. \n",
    "\n",
    "In order to set this up, navigate to a folder where you want to create your experiment and run `f3dasm.experiment.quickstart()`:"
   ]
  },
  {
   "cell_type": "code",
   "execution_count": 14,
   "metadata": {},
   "outputs": [],
   "source": [
    "# I'll not run this command because this is a demo\n",
    "\n",
    "# f3dasm.experiment.quickstart()"
   ]
  },
  {
   "cell_type": "markdown",
   "metadata": {},
   "source": [
    "This creates the following files and folders:\n",
    "\n",
    "```\n",
    "└── my_experiment \n",
    "    ├── main.py\n",
    "    ├── config.py\n",
    "    ├── config.yaml\n",
    "    ├── default.yaml\n",
    "    ├── pbsjob.sh\n",
    "    └── README.md\n",
    "    └── hydra/job_logging\n",
    "        └── custom_script.py\n",
    "```"
   ]
  },
  {
   "cell_type": "markdown",
   "metadata": {},
   "source": [
    "Without going to much in detail, the following things have already been set up automatically:"
   ]
  },
  {
   "cell_type": "markdown",
   "metadata": {},
   "source": [
    "**Logging**\n",
    "- `hydra` (and the `custom_script.py`) take care of all (multiprocess) logging\n",
    "- including writing across nodes when executing arrayjobs!"
   ]
  },
  {
   "cell_type": "markdown",
   "metadata": {},
   "source": [
    "**Parameter storage**\n",
    "- `config.yaml`, `config.py` and `default.yaml` can be used for easy reproducibility and parameter tuning of your experiment!"
   ]
  },
  {
   "cell_type": "markdown",
   "metadata": {},
   "source": [
    "**Parallelization**\n",
    "- `pbsjob.sh` can be used to execute your `main.py` file on the HPC, including array-jobs.\n",
    "\n",
    "example:\n",
    "```\n",
    "qsub pbsjob.sh\n",
    "qsub pbsjob.sh -t 0-10\n",
    "```"
   ]
  },
  {
   "cell_type": "markdown",
   "metadata": {},
   "source": [
    "**Saving data**\n",
    "- `hydra` creates a new `outputs/<HPC JOBID>/` directory that saves all output files, logs and settings when executing `main.py`\n",
    "- When executing arrayjobs, all arrayjobs write to the same folder!"
   ]
  },
  {
   "cell_type": "markdown",
   "metadata": {},
   "source": [
    "#### 2. Parallelization\n",
    "\n",
    "Let's recall: our single node process with `f3dasm.ExperimentData` can be abstracted by the following image:"
   ]
  },
  {
   "cell_type": "markdown",
   "metadata": {},
   "source": [
    "<img src=\"single_node.png\" alt=\"alt text\" width=\"50%\" height=\"50%\">"
   ]
  },
  {
   "cell_type": "markdown",
   "metadata": {},
   "source": [
    "Parallelizing the **outer loop** is more difficult, but we can do that across nodes with help of the `f3dasm.experiment.JobQueue`\n"
   ]
  },
  {
   "cell_type": "code",
   "execution_count": 15,
   "metadata": {},
   "outputs": [],
   "source": [
    "job_queue = f3dasm.experiment.JobQueue(filename='my_jobs')\n"
   ]
  },
  {
   "cell_type": "markdown",
   "metadata": {},
   "source": [
    "We can fill the queue with the rows of the `f3dasm.ExperimentData` object:"
   ]
  },
  {
   "cell_type": "code",
   "execution_count": 16,
   "metadata": {},
   "outputs": [
    {
     "data": {
      "text/plain": [
       "{0: 'open', 1: 'open', 2: 'open', 3: 'open', 4: 'open', 5: 'open', 6: 'open', 7: 'open', 8: 'open', 9: 'open'}"
      ]
     },
     "execution_count": 16,
     "metadata": {},
     "output_type": "execute_result"
    }
   ],
   "source": [
    "job_queue.create_jobs_from_experimentdata(data)\n",
    "job_queue"
   ]
  },
  {
   "cell_type": "markdown",
   "metadata": {},
   "source": [
    "10 jobs have been added and they are all up for grabs!\n",
    "\n",
    "Let's first write this to disk so multiple nodes can access it:"
   ]
  },
  {
   "cell_type": "code",
   "execution_count": 18,
   "metadata": {},
   "outputs": [],
   "source": [
    "job_queue.write_new_jobfile()"
   ]
  },
  {
   "cell_type": "markdown",
   "metadata": {},
   "source": [
    "A node can grab the first available job in the queue with the `get()` method:\n",
    "The file is locked when accessing the information from the JSON file\n"
   ]
  },
  {
   "cell_type": "code",
   "execution_count": 19,
   "metadata": {},
   "outputs": [
    {
     "name": "stdout",
     "output_type": "stream",
     "text": [
      "The first open job_id is 0!\n"
     ]
    }
   ],
   "source": [
    "job_id = job_queue.get()\n",
    "print(f\"The first open job_id is {job_id}!\")"
   ]
  },
  {
   "cell_type": "markdown",
   "metadata": {},
   "source": [
    "After returning the `job_id`, the lock is removed and the job is changed to `in progress`"
   ]
  },
  {
   "cell_type": "code",
   "execution_count": 20,
   "metadata": {},
   "outputs": [
    {
     "data": {
      "text/plain": [
       "{0: 'in progress',\n",
       " 1: 'open',\n",
       " 2: 'open',\n",
       " 3: 'open',\n",
       " 4: 'open',\n",
       " 5: 'open',\n",
       " 6: 'open',\n",
       " 7: 'open',\n",
       " 8: 'open',\n",
       " 9: 'open'}"
      ]
     },
     "execution_count": 20,
     "metadata": {},
     "output_type": "execute_result"
    }
   ],
   "source": [
    "job_queue.get_jobs()"
   ]
  },
  {
   "cell_type": "markdown",
   "metadata": {},
   "source": [
    "When a new node asks a new job, it will return the next open job in line!"
   ]
  },
  {
   "cell_type": "code",
   "execution_count": 21,
   "metadata": {},
   "outputs": [
    {
     "name": "stdout",
     "output_type": "stream",
     "text": [
      "The first open job_id is 1!\n"
     ]
    }
   ],
   "source": [
    "job_id = job_queue.get()\n",
    "print(f\"The first open job_id is {job_id}!\")"
   ]
  },
  {
   "cell_type": "markdown",
   "metadata": {},
   "source": [
    "When a job is finished, you can mark it finished or with an error:"
   ]
  },
  {
   "cell_type": "code",
   "execution_count": 22,
   "metadata": {},
   "outputs": [
    {
     "data": {
      "text/plain": [
       "{0: 'finished',\n",
       " 1: 'error',\n",
       " 2: 'open',\n",
       " 3: 'open',\n",
       " 4: 'open',\n",
       " 5: 'open',\n",
       " 6: 'open',\n",
       " 7: 'open',\n",
       " 8: 'open',\n",
       " 9: 'open'}"
      ]
     },
     "execution_count": 22,
     "metadata": {},
     "output_type": "execute_result"
    }
   ],
   "source": [
    "job_queue.mark_finished(index=0)\n",
    "job_queue.mark_error(index=1)\n",
    "\n",
    "job_queue.get_jobs()"
   ]
  },
  {
   "cell_type": "markdown",
   "metadata": {},
   "source": [
    "We can now change our simple script to handle multiprocessing across nodes!"
   ]
  },
  {
   "cell_type": "code",
   "execution_count": 23,
   "metadata": {},
   "outputs": [
    {
     "name": "stderr",
     "output_type": "stream",
     "text": [
      "2023-03-31 15:40:27,397 - Executed program with a=-0.251, b=0.901, c=0.464: \t Result: 261.134\n",
      "2023-03-31 15:40:27,630 - Executed program with a=0.197, b=-0.688, c=-0.688: \t Result: 19.109\n",
      "2023-03-31 15:40:27,870 - Executed program with a=-0.884, b=0.732, c=0.202: \t Result: 321.825\n",
      "2023-03-31 15:40:28,117 - Executed program with a=0.416, b=-0.959, c=0.940: \t Result: 170.930\n",
      "2023-03-31 15:40:28,351 - Executed program with a=0.665, b=-0.575, c=-0.636: \t Result: 79.458\n",
      "2023-03-31 15:40:28,623 - Executed program with a=-0.633, b=-0.392, c=0.050: \t Result: 139.412\n",
      "2023-03-31 15:40:28,892 - Executed program with a=-0.136, b=-0.418, c=0.224: \t Result: 115.536\n",
      "2023-03-31 15:40:29,129 - Executed program with a=-0.721, b=-0.416, c=-0.267: \t Result: 83.109\n",
      "2023-03-31 15:40:29,372 - Executed program with a=-0.088, b=0.570, c=-0.601: \t Result: 215.214\n",
      "2023-03-31 15:40:29,614 - Executed program with a=0.028, b=0.185, c=-0.907: \t Result: 109.803\n",
      "2023-03-31 15:40:29,623 - An unexpected error occurred: The jobfile my_jobs2 does not have any open jobs left!\n"
     ]
    },
    {
     "data": {
      "text/html": [
       "<div>\n",
       "<style scoped>\n",
       "    .dataframe tbody tr th:only-of-type {\n",
       "        vertical-align: middle;\n",
       "    }\n",
       "\n",
       "    .dataframe tbody tr th {\n",
       "        vertical-align: top;\n",
       "    }\n",
       "\n",
       "    .dataframe thead tr th {\n",
       "        text-align: left;\n",
       "    }\n",
       "</style>\n",
       "<table border=\"1\" class=\"dataframe\">\n",
       "  <thead>\n",
       "    <tr>\n",
       "      <th></th>\n",
       "      <th colspan=\"3\" halign=\"left\">input</th>\n",
       "      <th>output</th>\n",
       "    </tr>\n",
       "    <tr>\n",
       "      <th></th>\n",
       "      <th>a</th>\n",
       "      <th>b</th>\n",
       "      <th>c</th>\n",
       "      <th>y</th>\n",
       "    </tr>\n",
       "  </thead>\n",
       "  <tbody>\n",
       "    <tr>\n",
       "      <th>0</th>\n",
       "      <td>-0.250920</td>\n",
       "      <td>0.901429</td>\n",
       "      <td>0.463988</td>\n",
       "      <td>261.134214</td>\n",
       "    </tr>\n",
       "    <tr>\n",
       "      <th>1</th>\n",
       "      <td>0.197317</td>\n",
       "      <td>-0.687963</td>\n",
       "      <td>-0.688011</td>\n",
       "      <td>19.109039</td>\n",
       "    </tr>\n",
       "    <tr>\n",
       "      <th>2</th>\n",
       "      <td>-0.883833</td>\n",
       "      <td>0.732352</td>\n",
       "      <td>0.202230</td>\n",
       "      <td>321.825051</td>\n",
       "    </tr>\n",
       "    <tr>\n",
       "      <th>3</th>\n",
       "      <td>0.416145</td>\n",
       "      <td>-0.958831</td>\n",
       "      <td>0.939820</td>\n",
       "      <td>170.930424</td>\n",
       "    </tr>\n",
       "    <tr>\n",
       "      <th>4</th>\n",
       "      <td>0.664885</td>\n",
       "      <td>-0.575322</td>\n",
       "      <td>-0.636350</td>\n",
       "      <td>79.458296</td>\n",
       "    </tr>\n",
       "    <tr>\n",
       "      <th>5</th>\n",
       "      <td>-0.633191</td>\n",
       "      <td>-0.391516</td>\n",
       "      <td>0.049513</td>\n",
       "      <td>139.411721</td>\n",
       "    </tr>\n",
       "    <tr>\n",
       "      <th>6</th>\n",
       "      <td>-0.136110</td>\n",
       "      <td>-0.417542</td>\n",
       "      <td>0.223706</td>\n",
       "      <td>115.535908</td>\n",
       "    </tr>\n",
       "    <tr>\n",
       "      <th>7</th>\n",
       "      <td>-0.721012</td>\n",
       "      <td>-0.415711</td>\n",
       "      <td>-0.267276</td>\n",
       "      <td>83.109400</td>\n",
       "    </tr>\n",
       "    <tr>\n",
       "      <th>8</th>\n",
       "      <td>-0.087860</td>\n",
       "      <td>0.570352</td>\n",
       "      <td>-0.600652</td>\n",
       "      <td>215.214311</td>\n",
       "    </tr>\n",
       "    <tr>\n",
       "      <th>9</th>\n",
       "      <td>0.028469</td>\n",
       "      <td>0.184829</td>\n",
       "      <td>-0.907099</td>\n",
       "      <td>109.803282</td>\n",
       "    </tr>\n",
       "  </tbody>\n",
       "</table>\n",
       "</div>"
      ],
      "text/plain": [
       "      input                          output\n",
       "          a         b         c           y\n",
       "0 -0.250920  0.901429  0.463988  261.134214\n",
       "1  0.197317 -0.687963 -0.688011   19.109039\n",
       "2 -0.883833  0.732352  0.202230  321.825051\n",
       "3  0.416145 -0.958831  0.939820  170.930424\n",
       "4  0.664885 -0.575322 -0.636350   79.458296\n",
       "5 -0.633191 -0.391516  0.049513  139.411721\n",
       "6 -0.136110 -0.417542  0.223706  115.535908\n",
       "7 -0.721012 -0.415711 -0.267276   83.109400\n",
       "8 -0.087860  0.570352 -0.600652  215.214311\n",
       "9  0.028469  0.184829 -0.907099  109.803282"
      ]
     },
     "execution_count": 23,
     "metadata": {},
     "output_type": "execute_result"
    }
   ],
   "source": [
    "job_queue = f3dasm.experiment.JobQueue(filename='my_jobs2')\n",
    "job_queue.create_jobs_from_experimentdata(data)\n",
    "\n",
    "job_queue.write_new_jobfile()\n",
    "\n",
    "data.store('data')\n",
    "\n",
    "while True:\n",
    "    try:\n",
    "        jobnumber = job_queue.get()\n",
    "    except f3dasm.experiment.NoOpenJobsError:\n",
    "        break\n",
    "    \n",
    "    data = f3dasm.design.load_experimentdata('data')\n",
    "    args = data.get_inputdata_by_index(jobnumber)\n",
    "\n",
    "    value = main_parallel(**data.get_inputdata_by_index(jobnumber))\n",
    "    data.set_outputdata_by_index(jobnumber, value)\n",
    "\n",
    "    data.store('data')\n",
    "\n",
    "    job_queue.mark_finished(jobnumber)\n",
    "\n",
    "data.data"
   ]
  },
  {
   "cell_type": "markdown",
   "metadata": {},
   "source": [
    "This process looks like this:"
   ]
  },
  {
   "cell_type": "markdown",
   "metadata": {},
   "source": [
    "<img src=\"img/jobqueue.png\" alt=\"alt text\" width=\"50%\" height=\"50%\">"
   ]
  },
  {
   "cell_type": "markdown",
   "metadata": {},
   "source": [
    "### 3. Managing data"
   ]
  },
  {
   "cell_type": "markdown",
   "metadata": {},
   "source": [
    "Sometimes you don't want to write directly to the `ExperimentData` file. Perhaps the output is not a simple set of values, or you want to do some post-processing.\n",
    "This is where the `f3dasm.Filehandler` comes in handy."
   ]
  },
  {
   "cell_type": "markdown",
   "metadata": {},
   "source": [
    "<img src=\"img/jobqueue_filehandler.png\" alt=\"alt text\" width=\"80%\" height=\"80%\">"
   ]
  },
  {
   "cell_type": "markdown",
   "metadata": {},
   "source": [
    "You can create your own custom `FileHandler` by inheriting from the `f3dasm.experiment.Filenhandler` class:\n",
    "Upon initializing, you have to provide:\n",
    "- the directory to check for created files\n",
    "- the extension (like `.csv`) of the files\n",
    "- files following the above pattern that are intentionally ignored (optional)"
   ]
  },
  {
   "cell_type": "code",
   "execution_count": 24,
   "metadata": {},
   "outputs": [],
   "source": [
    "class MyFilehandler(f3dasm.experiment.FileHandler):\n",
    "    def execute(self, filename: str) -> int:\n",
    "        # Do some post processing with the created file\n",
    "        ...\n",
    "        # Return an errorcode: 0 = succesful, 1 = error"
   ]
  },
  {
   "cell_type": "markdown",
   "metadata": {},
   "source": [
    "## End of the demonstration!\n",
    "*Thank you for listening :)*"
   ]
  }
 ],
 "metadata": {
  "kernelspec": {
   "display_name": "Python 3 (ipykernel)",
   "language": "python",
   "name": "python3"
  },
  "language_info": {
   "codemirror_mode": {
    "name": "ipython",
    "version": 3
   },
   "file_extension": ".py",
   "mimetype": "text/x-python",
   "name": "python",
   "nbconvert_exporter": "python",
   "pygments_lexer": "ipython3",
   "version": "3.8.15"
  },
  "vscode": {
   "interpreter": {
    "hash": "03276761335d5ee93b82dc97db1addd68180a543fb0cacb8af76ec058b1972b7"
   }
  }
 },
 "nbformat": 4,
 "nbformat_minor": 2
}
